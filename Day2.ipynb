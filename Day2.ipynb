{
 "cells": [
  {
   "cell_type": "markdown",
   "metadata": {},
   "source": [
    "# I. Basic Probability"
   ]
  },
  {
   "cell_type": "markdown",
   "metadata": {},
   "source": [
    "### Task"
   ]
  },
  {
   "cell_type": "markdown",
   "metadata": {},
   "source": [
    "In a single toss of 2 fair (evenly-weighted) six-sided dice, find the probability that their sum will be at most 9.\n",
    "<ul>\n",
    "<li>2/3</li>\n",
    "<li>1/4</li>\n",
    "<li><b>5/6</b></li>\n",
    "<li>1/6</li>\n",
    "</ul>"
   ]
  },
  {
   "cell_type": "markdown",
   "metadata": {},
   "source": [
    "### Solution"
   ]
  },
  {
   "cell_type": "markdown",
   "metadata": {},
   "source": [
    "The combinations of toss outcomes that satisfy this requirement are: <br>\n",
    "{1, 1} <br>\n",
    "... <br>\n",
    "{1, 6} <br>\n",
    "{2, 1} <br>\n",
    "... <br>\n",
    "{2, 6} <br>\n",
    "{3, 1} <br>\n",
    "... <br>\n",
    "{3, 6} <br>\n",
    "{4, 1} <br>\n",
    "... <br>\n",
    "{4, 5} <br>\n",
    "{5, 1} <br>\n",
    "... <br>\n",
    "{5, 4} <br>\n",
    "{6, 1} <br>\n",
    "{6, 2} <br>\n",
    "{6, 3} <br>\n",
    "With amount of events $$N_{events} = 3 \\times 6 + (9 - 4) + (9 - 5) + (9 - 6) = 30$$\n",
    "The total amount of all outcomes is all combinations of two integers from 1 to 6: $$N_{total} = 6 \\times 6=36$$\n",
    "Thus, the probability of desired events is $$P=\\frac{N_{events}}{N_{total}} = \\frac{30}{36}=5/6$$"
   ]
  },
  {
   "cell_type": "markdown",
   "metadata": {},
   "source": [
    "# II. More Dice"
   ]
  },
  {
   "cell_type": "markdown",
   "metadata": {},
   "source": [
    "### Task"
   ]
  },
  {
   "cell_type": "markdown",
   "metadata": {},
   "source": [
    "In a single toss of 2 fair (evenly-weighted) six-sided dice, find the probability that the values rolled by each die will be different and the two dice have a sum of 6.<ul>\n",
    "<li><b>1/9</b></li>\n",
    "<li>2/3</li>\n",
    "<li>1/6</li>\n",
    "<li>5/6</li>\n",
    "</ul>"
   ]
  },
  {
   "cell_type": "markdown",
   "metadata": {},
   "source": [
    "There are 4 suitable outcomes: {1, 5}, {2, 4}, {5, 1}, {4,2}, and the total number of combinations is 36. So, $$P=\\frac{4}{36}=1/9$$"
   ]
  },
  {
   "cell_type": "markdown",
   "metadata": {},
   "source": [
    "# III. Compound Event Probability"
   ]
  },
  {
   "cell_type": "markdown",
   "metadata": {},
   "source": [
    "### Task"
   ]
  },
  {
   "cell_type": "markdown",
   "metadata": {},
   "source": [
    "There are 3 urns labeled <b>X</b>,<b>Y</b>, and <b>Z</b>. \n",
    "<ul>\n",
    "<li>Urn <b>X</b> contains <b>4</b> red balls and <b>3</b> black balls.</li>\n",
    "<li>Urn <b>Y</b> contains <b>5</b> red balls and <b>4</b> black balls.</li>\n",
    "<li>Urn <b>Z</b> contains <b>4</b> red balls and <b>4</b> black balls.</li>\n",
    "</ul>\n",
    "One ball is drawn from each of the  urns. What is the probability that, of the <b>3</b> balls drawn, <b>2</b> are red and <b>1</b> is black?\n",
    "<ul>\n",
    "<li>10/63</li>\n",
    "<li><b>17/42</b></li>\n",
    "<li>2/7</li>\n",
    "<li>31/126</li>\n",
    "</ul>"
   ]
  },
  {
   "cell_type": "markdown",
   "metadata": {},
   "source": [
    "### Solution"
   ]
  },
  {
   "cell_type": "markdown",
   "metadata": {},
   "source": [
    "The probabilities to draw red and black balls from urns X, Y, Z are correspondingly:\n",
    "$$P_{rx} =4/7,\\; P_{bx} =3/7$$\n",
    "$$P_{ry}=5/9, \\; P_{by} =4/9$$\n",
    "$$P_{rz}=4/8=1/2, \\; P_{bz} =1/2$$\n",
    "There are three combinations giving desired outcome. Probability of each can be calculated as multiplication of the probabilities to draw corresponding ball from corresponding urn:\n",
    "$$P_{rrb} =P_{rx} \\times P_{ry} \\times P_{bz} = 4/7 \\times 5/9 \\times 1/2=20/126$$\n",
    "$$P_{brr} =P_{bx} \\times P_{ry} \\times P_{rz} = 3/7 \\times 5/9 \\times 1/2=15/126$$\n",
    "$$P_{rbr} =P_{rx} \\times P_{by} \\times P_{rz} = 4/7 \\times 4/9 \\times 1/2=16/126$$\n",
    "As the events are independent, the total probabilities will be composed by their sum:\n",
    "$$P=P_{rrb} +P_{brr} +P_{rbr} = 20/126+15/126+16/126=\\\\51/126=17/42$$"
   ]
  },
  {
   "cell_type": "code",
   "execution_count": null,
   "metadata": {},
   "outputs": [],
   "source": []
  }
 ],
 "metadata": {
  "kernelspec": {
   "display_name": "Python 2",
   "language": "python",
   "name": "python2"
  },
  "language_info": {
   "codemirror_mode": {
    "name": "ipython",
    "version": 2
   },
   "file_extension": ".py",
   "mimetype": "text/x-python",
   "name": "python",
   "nbconvert_exporter": "python",
   "pygments_lexer": "ipython2",
   "version": "2.7.15"
  }
 },
 "nbformat": 4,
 "nbformat_minor": 2
}
