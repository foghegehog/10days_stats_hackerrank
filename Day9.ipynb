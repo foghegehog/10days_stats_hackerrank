{
 "cells": [
  {
   "cell_type": "markdown",
   "metadata": {},
   "source": [
    "# I. Multiple Linear Regression"
   ]
  },
  {
   "cell_type": "markdown",
   "metadata": {},
   "source": [
    "### Task"
   ]
  },
  {
   "cell_type": "markdown",
   "metadata": {},
   "source": [
    "Andrea has a simple equation: \n",
    "<b>$$Y=a+b_1 \\cdot f_1+b_2 \\cdot f_2+...+b_m \\cdot f_m$$</b>\n",
    "for <b>(m+1)</b> real constants <b>$(a, f_1,f_2, f_3,...,f_m)$</b>. We can say that the value of <b>Y</b> depends on <b>m</b> features. Andrea studies \n",
    "this equation for <b>n</b> different feature sets <b>$(f_1,f_2, f_3,...,f_m)$</b> and records each respective value of <b>Y</b>. If she has new <b>q</b>\n",
    "feature sets, can you help Andrea find the value of for each of the sets? <br>\n",
    "<b>Note:</b> You are not expected to account for bias and variance trade-offs."
   ]
  },
  {
   "cell_type": "markdown",
   "metadata": {},
   "source": [
    "### Input format"
   ]
  },
  {
   "cell_type": "markdown",
   "metadata": {},
   "source": [
    "The first line contains 2 space-separated integers, m (the number of observed features) and n (the \n",
    "number of feature sets Andrea studied), respectively. <br>\n",
    "Each of the subsequent n lines contain m+1 space-separated decimals; the first m elements are \n",
    "features $(f_1,f_2, f_3,...,f_m)$, and the last element is the value of Y for the line's feature set. \n",
    "The next line contains a single integer, q, denoting the number of feature sets Andrea wants to query for. \n",
    "Each of the subsequent q lines contains m space-separated decimals describing the feature sets."
   ]
  },
  {
   "cell_type": "markdown",
   "metadata": {},
   "source": [
    "### Constraints"
   ]
  },
  {
   "cell_type": "markdown",
   "metadata": {},
   "source": [
    "<ul>\n",
    "<li>$1 \\leq m \\leq 10$</li>\n",
    "<li>$5 \\leq n \\leq 100$</li>\n",
    "<li>$0 \\leq f_i \\leq 1$</li>\n",
    "<li>$ \\leq Y \\leq 10^6$</li>\n",
    "<li>$1 \\leq q \\leq 100$</li>\n",
    "</ul>"
   ]
  },
  {
   "cell_type": "markdown",
   "metadata": {},
   "source": [
    "### Output Format"
   ]
  },
  {
   "cell_type": "markdown",
   "metadata": {},
   "source": [
    "For each of the q feature sets, print the value of Y on a new line (i.e., you must print a total q of lines)."
   ]
  },
  {
   "cell_type": "markdown",
   "metadata": {},
   "source": [
    "### Sample Input"
   ]
  },
  {
   "cell_type": "markdown",
   "metadata": {},
   "source": [
    "2 7 <br>\n",
    "0.18 0.89 109.85 <br>\n",
    "1.0 0.26 155.72 <br>\n",
    "0.92 0.11 137.66 <br>\n",
    "0.07 0.37 76.17 <br>\n",
    "0.85 0.16 139.75 <br>\n",
    "0.99 0.41 162.6 <br>\n",
    "0.87 0.47 151.77 <br>\n",
    "4 <br>\n",
    "0.49 0.18 <br>\n",
    "0.57 0.83 <br>\n",
    "0.56 0.64 <br>\n",
    "0.76 0.18"
   ]
  },
  {
   "cell_type": "markdown",
   "metadata": {},
   "source": [
    "### Sample Output"
   ]
  },
  {
   "cell_type": "markdown",
   "metadata": {},
   "source": [
    "105.22 <br>\n",
    "142.68 <br>\n",
    "132.94 <br>\n",
    "129.71<br>"
   ]
  },
  {
   "cell_type": "markdown",
   "metadata": {},
   "source": [
    "### Explanation"
   ]
  },
  {
   "cell_type": "markdown",
   "metadata": {},
   "source": [
    "We're given m=2, so $Y=a+b_1 \\cdot f_1+b_2 \\cdot f_2$. We're also given $n=7$, so we determine that Andrea \n",
    "studied the following feature sets: \n",
    "$$a+0.18\\cdot b_1+ 0.89\\cdot b_2 =109.85$$\n",
    "$$a+1.0\\cdot b_1+ 0.26\\cdot b_2 =155.72$$\n",
    "$$a+0.92 \\cdot b_1+0.11 \\cdot b_2=137.66$$\n",
    "$$a+0.07 \\cdot b_1+0.37 \\cdot b_2=76.17$$\n",
    "$$a+0.85 \\cdot b_1+0.16 \\cdot b_2=139.75$$\n",
    "$$a+0.99 \\cdot b_1+0.41 \\cdot b_2=162.6$$\n",
    "$$a+0.87 \\cdot b_1+0.47 \\cdot b_2=151.77$$\n",
    "We use the information above to find the values of $a, b_1, b_2$. Then, we find the value of Y for each of the q datasets. "
   ]
  },
  {
   "cell_type": "markdown",
   "metadata": {},
   "source": [
    "### Solution"
   ]
  },
  {
   "cell_type": "markdown",
   "metadata": {},
   "source": [
    "We can use given numbers to form matrices X, B and Y:\n",
    "$$Y=\\begin{bmatrix}\n",
    "    y_{1}\\\\\n",
    "    y_{2}\\\\\n",
    "    \\dots \\\\\n",
    "    y_{n}\n",
    "\\end{bmatrix}\n",
    "$$<br>\n",
    "$$X=\\begin{bmatrix}\n",
    "    1      & f_{11} & f_{12} & \\dots & f_{1m} \\\\\n",
    "    1       & f_{21} & f_{22} & \\dots & f_{2m} \\\\\n",
    "    \\dots & \\dots & \\dots & \\dots& \\dots\\\\\n",
    "    1       & f_{n1} & f_{n2} & \\dots & f_{nm}\n",
    "\\end{bmatrix}\n",
    "$$<br>\n",
    "$$B=\\begin{bmatrix}\n",
    "    a_{1}       & b_{11} & b_{12} & \\dots & b_{1m} \\\\\n",
    "    a_{2}       & b_{21} & b_{22} & \\dots & b_{2m} \\\\\n",
    "    \\dots & \\dots & \\dots & \\dots& \\dots\\\\\n",
    "    a_{n}       & b_{n1} & b_{n2} & \\dots & b_{nm}\n",
    "\\end{bmatrix}\n",
    "$$<br>\n",
    "Then the equations can be written in matrix form:\n",
    "$$Y=X\\cdot B$$\n",
    "After that the B matrix can be calculated using formula:\n",
    "$$B=(X^T \\cdot X) ^{-1}\\cdot X^{T} \\cdot Y$$ <br>\n",
    "Knowing values of B matrix we can easily calculate Y values for new q datasets with the matrix formula above. "
   ]
  },
  {
   "cell_type": "markdown",
   "metadata": {},
   "source": [
    "### Code"
   ]
  },
  {
   "cell_type": "code",
   "execution_count": 13,
   "metadata": {
    "scrolled": true
   },
   "outputs": [
    {
     "name": "stdout",
     "output_type": "stream",
     "text": [
      "\"2 7\"\n",
      "\"0.18 0.89 109.85\"\n",
      "\"1.0 0.26 155.72\"\n",
      "\"0.92 0.11 137.66\"\n",
      "\"0.07 0.37 76.17\"\n",
      "\"0.85 0.16 139.75\"\n",
      "\"0.99 0.41 162.6\"\n",
      "\"0.87 0.47 151.77\"\n",
      "4\n",
      "\"0.49 0.18\"\n",
      "\"0.57 0.83\"\n",
      "\"0.56 0.64\"\n",
      "\"0.76 0.18\"\n",
      "105.21\n",
      "142.67\n",
      "132.94\n",
      "129.70\n"
     ]
    }
   ],
   "source": [
    "import numpy as np\n",
    "\n",
    "m, n = [int(s) for s in input().split()]\n",
    "x = np.zeros((n, m + 1))\n",
    "y = np.zeros(n)\n",
    "              \n",
    "for i in range(n):\n",
    "    nums = [float(s) for s in (\"1 \" + input()).split()]\n",
    "    x[i, :] = nums[:-1]\n",
    "    y[i] = nums[-1]\n",
    "    \n",
    "xt = x.transpose()    \n",
    "\n",
    "xtx_1 = np.linalg.inv(np.matmul(xt, x))\n",
    "b = np.matmul(\n",
    "        np.matmul(xtx_1, xt),\n",
    "        y)\n",
    "\n",
    "q = int(input())\n",
    "x_pred = np.zeros((q, m + 1))\n",
    "for i in range(q):\n",
    "    x_pred[i] = [float(s) for s in (\"1 \" + input()).split()]\n",
    "    \n",
    "y_pred = np.matmul(x_pred, b)\n",
    "\n",
    "for y_el in y_pred:\n",
    "    print('{:.2f}'.format(y_el))"
   ]
  },
  {
   "cell_type": "code",
   "execution_count": null,
   "metadata": {},
   "outputs": [],
   "source": []
  }
 ],
 "metadata": {
  "kernelspec": {
   "display_name": "Python 3",
   "language": "python",
   "name": "python3"
  },
  "language_info": {
   "codemirror_mode": {
    "name": "ipython",
    "version": 3
   },
   "file_extension": ".py",
   "mimetype": "text/x-python",
   "name": "python",
   "nbconvert_exporter": "python",
   "pygments_lexer": "ipython3",
   "version": "3.7.3"
  }
 },
 "nbformat": 4,
 "nbformat_minor": 2
}
