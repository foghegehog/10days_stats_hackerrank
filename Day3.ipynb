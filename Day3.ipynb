{
 "cells": [
  {
   "cell_type": "markdown",
   "metadata": {},
   "source": [
    "# I. Conditional Probability"
   ]
  },
  {
   "cell_type": "markdown",
   "metadata": {},
   "source": [
    "### Task"
   ]
  },
  {
   "cell_type": "markdown",
   "metadata": {},
   "source": [
    "Suppose a family has 2 children, one of which is a boy. What is the probability that both children are boys?\n",
    "<ul>\n",
    "<li><b>1/3</b></li>\n",
    "<li>2/3</li>\n",
    "<li>1/2</li>\n",
    "<li>1/9</li>\n",
    "</ul>"
   ]
  },
  {
   "cell_type": "markdown",
   "metadata": {},
   "source": [
    "### Solution"
   ]
  },
  {
   "cell_type": "markdown",
   "metadata": {},
   "source": [
    "To solve the task we can introduce the following events:\n",
    "<ul>\n",
    "<li><b>HB</b> - the family has a boy. As from four types of families <b>{boy, boy}</b>, <b>{boy, girl}</b>, <b>{girl, boy}</b>, <b>{girl, girl}</b> three have at least one boy, <b>P(HB)</b> = 3/4.</li>\n",
    "<li><b>BB</b> - both children in the family are boys. <b>P(BB)</b> =1/4.</li>\n",
    "</ul>\n",
    "Using Bayes' theorem we can write:<br>\n",
    "$P(BB|HB) =\\frac{P(BB)P(HB|BB)} {P(HB)} $<br>\n",
    "The probability P(HB|BB) (that is probability of having a boy when both children are boys) is obviously <b>1</b>. <br>Thus, $P(BB|HB) =\\frac{1/4 \\times 1}{3/4}=1/3$"
   ]
  },
  {
   "cell_type": "markdown",
   "metadata": {},
   "source": [
    "# II. Cards of the Same Suit\n",
    "\n"
   ]
  },
  {
   "cell_type": "markdown",
   "metadata": {},
   "source": [
    "### Task"
   ]
  },
  {
   "cell_type": "markdown",
   "metadata": {},
   "source": [
    "You draw 2 cards from a standard 52-card deck without replacing them. What is the probability that both cards are of the same suit?\n",
    "<ul>\n",
    "<li>1/156</li>\n",
    "<li>12/39</li>\n",
    "<li>1/39</li>\n",
    "<li><b>12/51</b></li>\n",
    "</ul>"
   ]
  },
  {
   "cell_type": "markdown",
   "metadata": {},
   "source": [
    "### Solution"
   ]
  },
  {
   "cell_type": "markdown",
   "metadata": {},
   "source": [
    "As there are no restructions for the first card, the desired probability is equal to the probability to draw a card of specific suit from the uncomplete deck. After the first card drawn, there are 12 cards of the same suit in the deck with total amount of cards being 51. So, P = <b>12/51</b>."
   ]
  },
  {
   "cell_type": "markdown",
   "metadata": {},
   "source": [
    "# III. Drawing Marbles"
   ]
  },
  {
   "cell_type": "markdown",
   "metadata": {},
   "source": [
    "### Task"
   ]
  },
  {
   "cell_type": "markdown",
   "metadata": {},
   "source": [
    "A bag contains 3 red marbles and 4 blue marbles. Then, 2 marbles are drawn from the bag, at random, without replacement. If the first marble drawn is red, what is the probability that the second marble is blue?\n",
    "<ul>\n",
    "<li>1/12</li>\n",
    "<li>1/6</li>\n",
    "<li>7/12</li>\n",
    "<li><b>2/3</b></li>\n",
    "</ul>"
   ]
  },
  {
   "cell_type": "markdown",
   "metadata": {},
   "source": [
    "### Solution"
   ]
  },
  {
   "cell_type": "markdown",
   "metadata": {},
   "source": [
    "After a red marble being drawn from the bag, there stays 2 red and 4 blue marbles, with total amount of marbles being equal to 6. This way desired probability is $$P=\\frac{4}{6}=2/3$$"
   ]
  },
  {
   "cell_type": "code",
   "execution_count": null,
   "metadata": {},
   "outputs": [],
   "source": []
  }
 ],
 "metadata": {
  "kernelspec": {
   "display_name": "Python 3",
   "language": "python",
   "name": "python3"
  },
  "language_info": {
   "codemirror_mode": {
    "name": "ipython",
    "version": 3
   },
   "file_extension": ".py",
   "mimetype": "text/x-python",
   "name": "python",
   "nbconvert_exporter": "python",
   "pygments_lexer": "ipython3",
   "version": "3.7.3"
  }
 },
 "nbformat": 4,
 "nbformat_minor": 2
}
