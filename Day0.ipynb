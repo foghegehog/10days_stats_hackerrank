{
 "cells": [
  {
   "cell_type": "markdown",
   "metadata": {},
   "source": [
    "# I. Mean, Median and Mode"
   ]
  },
  {
   "cell_type": "markdown",
   "metadata": {},
   "source": [
    "### Task"
   ]
  },
  {
   "cell_type": "markdown",
   "metadata": {},
   "source": [
    "Given an array, <b>X</b>, of <b>N</b> integers, calculate and print the respective mean, median, and mode on separate lines. If your array contains more than one modal value, choose the numerically smallest one.\n",
    "\n",
    "<b>Note</b>: Other than the modal value (which will always be an integer), your answers should be in decimal form, rounded to a scale of <b>1</b> decimal place (i.e., <b>12.3</b>, <b>7.0</b> format)."
   ]
  },
  {
   "cell_type": "markdown",
   "metadata": {},
   "source": [
    "### Input Format"
   ]
  },
  {
   "cell_type": "markdown",
   "metadata": {},
   "source": [
    "The first line contains an integer, <b>N</b>, denoting the number of elements in the array. \n",
    "The second line contains <b>N</b> space-separated integers describing the array's elements."
   ]
  },
  {
   "cell_type": "markdown",
   "metadata": {},
   "source": [
    "### Constraints"
   ]
  },
  {
   "cell_type": "markdown",
   "metadata": {},
   "source": [
    "$\\begin{align}\n",
    "10<N<2500\n",
    "\\end{align} $\n",
    "<br>\n",
    "$\n",
    "\\begin{align} \n",
    "0<x_i<10^5, \n",
    "\\end{align}\n",
    "$\n",
    "where $x_i$ is the $i^{th}$ elements of array"
   ]
  },
  {
   "cell_type": "markdown",
   "metadata": {},
   "source": [
    "### Output Format"
   ]
  },
  {
   "cell_type": "markdown",
   "metadata": {},
   "source": [
    "Print  lines of output in the following order:\n",
    "<ol>\n",
    "<li>Print the mean on a new line, to a scale of 1 decimal place. </li>\n",
    "<li>Print the median on a new line, to a scale of  1 decimal place. </li>\n",
    "<li>Print the mode on a new line; if more than one such value exists, print the numerically smallest one.</li>\n",
    "</ol>"
   ]
  },
  {
   "cell_type": "markdown",
   "metadata": {},
   "source": [
    "### Sample Input"
   ]
  },
  {
   "cell_type": "markdown",
   "metadata": {},
   "source": [
    "10 <br>\n",
    "64630 11735 14216 99233 14470 4978 73429 38120 51135 67060"
   ]
  },
  {
   "cell_type": "markdown",
   "metadata": {},
   "source": [
    "### Sample Output"
   ]
  },
  {
   "cell_type": "markdown",
   "metadata": {},
   "source": [
    "43900.6 <br>\n",
    "44627.5 <br>\n",
    "4978 <br>"
   ]
  },
  {
   "cell_type": "markdown",
   "metadata": {},
   "source": [
    "### Explanation"
   ]
  },
  {
   "cell_type": "markdown",
   "metadata": {},
   "source": [
    "### Mean"
   ]
  },
  {
   "cell_type": "markdown",
   "metadata": {},
   "source": [
    "We sum all <b>N</b> elements in the array, divide the sum by <b>N</b>, and print our result on a new line.<br>\n",
    "$\n",
    "\\mu=\\frac{x_0+x_1+x_2+x_3+x_4+x_5+x_6+x_7+x_8+x_9}{10}=\\frac{439006}{10}=43900.6\n",
    "$"
   ]
  },
  {
   "cell_type": "markdown",
   "metadata": {},
   "source": [
    "### Median"
   ]
  },
  {
   "cell_type": "markdown",
   "metadata": {},
   "source": [
    "To calculate the median, we need the elements of the array to be sorted in either non-increasing or non-decreasing order. The sorted array <br><br>\n",
    "<i><b>X</b>={4978, 11735, 14216, 14470, 38120, 51135, 64630, 67060, 73429, 99233}</i><br><br>\n",
    "We then average the two middle elements:<br>\n",
    "$$median=\\frac{x_4+x_5}{2}=\\frac{89225}{2}=44627.5$$<br>\n",
    "and print our result on a new line."
   ]
  },
  {
   "cell_type": "markdown",
   "metadata": {},
   "source": [
    "### Mode"
   ]
  },
  {
   "cell_type": "markdown",
   "metadata": {},
   "source": [
    "We can find the number of occurrences of all the elements in the array:<br>\n",
    "\n",
    " 4978 : 1<br>\n",
    "11735 : 1<br>\n",
    "14216 : 1<br>\n",
    "14470 : 1<br>\n",
    "38120 : 1<br>\n",
    "51135 : 1<br>\n",
    "64630 : 1<br>\n",
    "67060 : 1<br>\n",
    "73429 : 1<br>\n",
    "99233 : 1<br>\n",
    "Every number occurs once, making <b>1</b> the maximum number of occurrences for any number in <b>X</b>. Because we have multiple values to choose from, we want to select the smallest one, <b>4978</b>, and print it on a new line."
   ]
  },
  {
   "cell_type": "markdown",
   "metadata": {},
   "source": [
    "### Solution Code"
   ]
  },
  {
   "cell_type": "code",
   "execution_count": 3,
   "metadata": {
    "scrolled": false
   },
   "outputs": [
    {
     "name": "stdout",
     "output_type": "stream",
     "text": [
      "10\n",
      "\"64630 11735 14216 99233 14470 4978 73429 38120 51135 67060\"\n",
      "43900.6\n",
      "44627.5\n",
      "4978\n"
     ]
    }
   ],
   "source": [
    "n = int(input()) \n",
    "x_str = input() \n",
    "x = [int(xi) for xi in x_str.split()]\n",
    "\n",
    "mu = float(sum(x)) / n\n",
    "\n",
    "x_sorted = list(x) \n",
    "x_sorted.sort()\n",
    "if n % 2 == 1:\n",
    "    median = x_sorted[n // 2] \n",
    "else:\n",
    "    median = (x_sorted[n // 2 - 1] + x_sorted[n // 2]) / 2.0\n",
    "    \n",
    "from collections import Counter\n",
    "x_counter = Counter(x)\n",
    "x_frequencies = x_counter.most_common()\n",
    "freq = x_frequencies[0][1]\n",
    "x_most_common = [xi for xi,f in x_frequencies if f == freq] \n",
    "mode = min(x_most_common) \n",
    "\n",
    "print(\"{0:.1f}\".format(mu)) \n",
    "print(\"{0:.1f}\".format(median)) \n",
    "print(mode) "
   ]
  },
  {
   "cell_type": "markdown",
   "metadata": {},
   "source": [
    "# II. Weighted Mean"
   ]
  },
  {
   "cell_type": "markdown",
   "metadata": {},
   "source": [
    "### Task"
   ]
  },
  {
   "cell_type": "markdown",
   "metadata": {},
   "source": [
    "Given an array, <b>X</b>, of <b>N</b> integers and an array, <b>W</b>, representing the respective weights of <b>X</b>'s elements, calculate and print the weighted mean of <b>X</b>'s elements. Your answer should be rounded to a scale of  decimal place (i.e., <b>12.3</b> format)."
   ]
  },
  {
   "cell_type": "markdown",
   "metadata": {},
   "source": [
    "### Input Format"
   ]
  },
  {
   "cell_type": "markdown",
   "metadata": {},
   "source": [
    "The first line contains an integer, <b>N</b>, denoting the number of elements in arrays <b>X</b> and <b>W</b>. \n",
    "The second line contains  space-separated integers describing the respective elements of array <b>X</b>. \n",
    "The third line contains  space-separated integers describing the respective elements of array <b>W</b>."
   ]
  },
  {
   "cell_type": "markdown",
   "metadata": {},
   "source": [
    "### Constraints"
   ]
  },
  {
   "cell_type": "markdown",
   "metadata": {},
   "source": [
    "$\n",
    "\\begin{align} \n",
    "5\\leq N\\leq50\n",
    "\\end{align} \n",
    "$\n",
    "<br>\n",
    "$\n",
    "\\begin{align} \n",
    "0<x_i\\leq100, \n",
    "\\end{align}\n",
    "$\n",
    "where $x_i$ is the $i^{th}$ elements of array $X$\n",
    "<br>\n",
    "$\n",
    "\\begin{align} \n",
    "0<w_i\\leq100,\n",
    "\\end{align}\n",
    "$\n",
    "where $w_i$ is the $i^{th}$ elements of array $W$"
   ]
  },
  {
   "cell_type": "markdown",
   "metadata": {},
   "source": [
    "### Output Format"
   ]
  },
  {
   "cell_type": "markdown",
   "metadata": {},
   "source": [
    "Print the weighted mean on a new line. Your answer should be rounded to a scale of  decimal place. "
   ]
  },
  {
   "cell_type": "markdown",
   "metadata": {},
   "source": [
    "### Sample Input"
   ]
  },
  {
   "cell_type": "markdown",
   "metadata": {},
   "source": [
    "5 <br>\n",
    "10 40 30 50 20<br>\n",
    "1 2 3 4 5"
   ]
  },
  {
   "cell_type": "markdown",
   "metadata": {},
   "source": [
    "### Sample Output"
   ]
  },
  {
   "cell_type": "markdown",
   "metadata": {},
   "source": [
    "32.0"
   ]
  },
  {
   "cell_type": "markdown",
   "metadata": {},
   "source": [
    "### Explanation"
   ]
  },
  {
   "cell_type": "markdown",
   "metadata": {},
   "source": [
    "We use the following formula to calculate the weighted mean:\n",
    "$$\n",
    "m_w=\\frac{\\sum_{i=0}^{N-1}(x_i\\times w_i)} {\\sum_{i=0}^{N-1}w_i} =\\frac{10\\times 1+40\\times 2+30\\times 3+50\\times 4+20\\times 5}{1+2+3+4+5}=\\frac{480}{15}=32.0\n",
    "$$<br>\n",
    "And then print our result to a scale of <b>1</b> decimal place (<b>32.0</b>) on a new line."
   ]
  },
  {
   "cell_type": "markdown",
   "metadata": {},
   "source": [
    "### Solution code"
   ]
  },
  {
   "cell_type": "code",
   "execution_count": 6,
   "metadata": {},
   "outputs": [
    {
     "name": "stdout",
     "output_type": "stream",
     "text": [
      "5\n",
      "\"10 40 30 50 20\"\n",
      "\"1 2 3 4 5\"\n",
      "32.0\n"
     ]
    }
   ],
   "source": [
    "n = int(input()) \n",
    "x = [int(xi) for xi in input().split()] \n",
    "w = [int(wi) for wi in input().split()]\n",
    "\n",
    "mw = sum([xi*wi for xi, wi in zip(x, w)]) / sum(w) \n",
    "print(\"{0:.1f}\".format(mw)) "
   ]
  },
  {
   "cell_type": "code",
   "execution_count": null,
   "metadata": {},
   "outputs": [],
   "source": []
  }
 ],
 "metadata": {
  "kernelspec": {
   "display_name": "Python 3",
   "language": "python",
   "name": "python3"
  },
  "language_info": {
   "codemirror_mode": {
    "name": "ipython",
    "version": 3
   },
   "file_extension": ".py",
   "mimetype": "text/x-python",
   "name": "python",
   "nbconvert_exporter": "python",
   "pygments_lexer": "ipython3",
   "version": "3.7.3"
  }
 },
 "nbformat": 4,
 "nbformat_minor": 2
}
