{
 "cells": [
  {
   "cell_type": "markdown",
   "metadata": {},
   "source": [
    "# I. Binomial Distribution I"
   ]
  },
  {
   "cell_type": "markdown",
   "metadata": {},
   "source": [
    "### Task"
   ]
  },
  {
   "cell_type": "markdown",
   "metadata": {},
   "source": [
    "The ratio of boys to girls for babies born in Russia is 10.9:1. If there is 1 child born per birth, what \n",
    "proportion of Russian families with exactly 6 children will have at 3 least boys? <br>\n",
    "Write a program to compute the answer using the above parameters. Then print your result, rounded to a \n",
    "scale of 3 decimal places (i.e., 1.234 format)."
   ]
  },
  {
   "cell_type": "markdown",
   "metadata": {},
   "source": [
    "### Input format"
   ]
  },
  {
   "cell_type": "markdown",
   "metadata": {},
   "source": [
    "A single line containing the following values: <br>\n",
    "1.09 1 <br>\n",
    "If you do not wish to read this information from stdin, you can hard-code it into your program.<br>"
   ]
  },
  {
   "cell_type": "markdown",
   "metadata": {},
   "source": [
    "### Output Format"
   ]
  },
  {
   "cell_type": "markdown",
   "metadata": {},
   "source": [
    "Print a single line denoting the answer, rounded to a scale of 3 decimal places (i.e., 1.234 format)."
   ]
  },
  {
   "cell_type": "markdown",
   "metadata": {},
   "source": [
    "### Solution"
   ]
  },
  {
   "cell_type": "markdown",
   "metadata": {},
   "source": [
    "The total probability will be equal to the sum of probabilities to have from 3 to 6 children in family with total amount of kids being 6. <br>\n",
    "Each probability can be calculated with the binominal distribution formula:<br>\n",
    "$b(x,n,p) =\\frac{n!}{x!(n-x)!} \\cdot p^n \\cdot q^{(n-x)} $<br>\n",
    "Where n is total amount of \"experiments\", x is amount of desired outcomes, p is probability of desired outcome, q = 1-p"
   ]
  },
  {
   "cell_type": "markdown",
   "metadata": {},
   "source": [
    "### Code"
   ]
  },
  {
   "cell_type": "code",
   "execution_count": 3,
   "metadata": {},
   "outputs": [],
   "source": [
    "def binominal_probability(n, x, p, q):\n",
    "    return math.factorial(n)/(math.factorial(x)*math.factorial(n-x)) * p**x * q**(n-x)"
   ]
  },
  {
   "cell_type": "code",
   "execution_count": 2,
   "metadata": {},
   "outputs": [
    {
     "name": "stdout",
     "output_type": "stream",
     "text": [
      "\"1.09 1\"\n",
      "0.696\n"
     ]
    }
   ],
   "source": [
    "import math\n",
    "\n",
    "rate_boys, rate_girls = [float(rs) for rs in input().split(' ')]\n",
    "p_boys = rate_boys / (rate_boys + rate_girls)\n",
    "p_girls = 1 - p_boys\n",
    "\n",
    "p_result = 0\n",
    "\n",
    "n_children = 6\n",
    "at_least = 3\n",
    "for n_boys in range(at_least, n_children + 1):\n",
    "    p_result += binominal_probability(n_children, n_boys, p_boys, p_girls)\n",
    "    \n",
    "print('{:.3f}'.format(p_result))\n",
    "    \n"
   ]
  },
  {
   "cell_type": "markdown",
   "metadata": {},
   "source": [
    "# II. Binomial Distribution II"
   ]
  },
  {
   "cell_type": "markdown",
   "metadata": {},
   "source": [
    "### Task"
   ]
  },
  {
   "cell_type": "markdown",
   "metadata": {},
   "source": [
    "A manufacturer of metal pistons finds that, on average, 12% of the pistons they manufacture are rejected \n",
    "because they are incorrectly sized. What is the probability that a batch of 10 pistons will contain:<br>\n",
    "1. No more than 2 rejects? <br>\n",
    "2. At least 2 rejects? <br>"
   ]
  },
  {
   "cell_type": "markdown",
   "metadata": {},
   "source": [
    "### Input format"
   ]
  },
  {
   "cell_type": "markdown",
   "metadata": {},
   "source": [
    "A single line containing the following values (denoting the respective percentage of defective pistons and \n",
    "the size of the current batch of pistons): <br>\n",
    "12 10 <br>\n",
    "If you do not wish to read this information from stdin, you can hard-code it into your program."
   ]
  },
  {
   "cell_type": "markdown",
   "metadata": {},
   "source": [
    "### Output Format"
   ]
  },
  {
   "cell_type": "markdown",
   "metadata": {},
   "source": [
    "Print the answer to each question on its own line: <br>\n",
    "1. The first line should contain the probability that a batch of 10 pistons will contain no more than 2 \n",
    "rejects. <br>\n",
    "2. The second line should contain the probability that a batch of 10 pistons will contain at least 2 rejects. <br>\n",
    "Round both of your answers to a scale of decimal places (i.e., 1.234 format)."
   ]
  },
  {
   "cell_type": "markdown",
   "metadata": {},
   "source": [
    "### Solution"
   ]
  },
  {
   "cell_type": "markdown",
   "metadata": {},
   "source": [
    "Similar to previous task, the needed probabilities will be equal to sums of binominal probabilities from 0 to 2 and 2 to 10 correspondingly. "
   ]
  },
  {
   "cell_type": "markdown",
   "metadata": {},
   "source": [
    "### Code"
   ]
  },
  {
   "cell_type": "code",
   "execution_count": 4,
   "metadata": {},
   "outputs": [
    {
     "name": "stdout",
     "output_type": "stream",
     "text": [
      "\"12 10\"\n",
      "0.891\n",
      "0.342\n"
     ]
    }
   ],
   "source": [
    "import math\n",
    "\n",
    "s_percent, s_batch = input().split(' ')\n",
    "p = float(s_percent) / 100\n",
    "q = 1 - p\n",
    "batch = int(s_batch)\n",
    "\n",
    "n_rejects = 2\n",
    "\n",
    "not_more_probability = 0.0\n",
    "\n",
    "for rejects in range(0, n_rejects + 1):\n",
    "    not_more_probability += binominal_probability(batch, rejects, p, q)\n",
    "\n",
    "at_least_probability = 0.0\n",
    "\n",
    "for rejects in range(n_rejects, batch + 1):\n",
    "    at_least_probability += binominal_probability(batch, rejects, p, q)\n",
    "    \n",
    "print('{:.3f}'.format(not_more_probability))\n",
    "print('{:.3f}'.format(at_least_probability))"
   ]
  },
  {
   "cell_type": "markdown",
   "metadata": {},
   "source": [
    "# III. Geometric Distribution I"
   ]
  },
  {
   "cell_type": "markdown",
   "metadata": {},
   "source": [
    "### Task"
   ]
  },
  {
   "cell_type": "markdown",
   "metadata": {},
   "source": [
    "The probability that a machine produces a defective product is 1/3. What is the probability that the 1st defect is found during the 5th inspection?"
   ]
  },
  {
   "cell_type": "markdown",
   "metadata": {},
   "source": [
    "### Input format"
   ]
  },
  {
   "cell_type": "markdown",
   "metadata": {},
   "source": [
    "The first line contains the respective space-separated numerator and denominator for the probability of a \n",
    "defect, and the second line contains the inspection we want the probability of being the first defect for: <br>\n",
    "1 3 <br>\n",
    "5 <br>\n",
    "If you do not wish to read this information from stdin, you can hard-code it into your program."
   ]
  },
  {
   "cell_type": "markdown",
   "metadata": {},
   "source": [
    "### Output Format"
   ]
  },
  {
   "cell_type": "markdown",
   "metadata": {},
   "source": [
    "Print a single line denoting the answer, rounded to a scale of 3 decimal places (i.e., 1.234 format)."
   ]
  },
  {
   "cell_type": "markdown",
   "metadata": {},
   "source": [
    "### Solution"
   ]
  },
  {
   "cell_type": "markdown",
   "metadata": {},
   "source": [
    "The desired probability will be equal to the probability of having n-1 failures and success on then attempt. Given the probability of succes p, the probability of failure q = 1-p, the formula looks like:<br>\n",
    "$g(n, p) =q^{n-1} \\cdot p$"
   ]
  },
  {
   "cell_type": "markdown",
   "metadata": {},
   "source": [
    "### Code"
   ]
  },
  {
   "cell_type": "code",
   "execution_count": 4,
   "metadata": {},
   "outputs": [
    {
     "name": "stdout",
     "output_type": "stream",
     "text": [
      "\"1 3\"\n",
      "5\n",
      "0.066\n"
     ]
    }
   ],
   "source": [
    "numerator, denominator = [float(s) for s in input().split()]\n",
    "n = int(input()) \n",
    "\n",
    "p = numerator / denominator\n",
    "q = 1 - p\n",
    "\n",
    "p_inspection = q ** (n - 1) * p\n",
    "print(\"{0:.3f}\".format(p_inspection)) "
   ]
  },
  {
   "cell_type": "markdown",
   "metadata": {},
   "source": [
    "# IV. Geometric Distribution II"
   ]
  },
  {
   "cell_type": "markdown",
   "metadata": {},
   "source": [
    "### Task"
   ]
  },
  {
   "cell_type": "markdown",
   "metadata": {},
   "source": [
    "The probability that a machine produces a defective product is 1/3. What is the probability that 1st the defect is found during the first 5 inspections?"
   ]
  },
  {
   "cell_type": "markdown",
   "metadata": {},
   "source": [
    "### Input format"
   ]
  },
  {
   "cell_type": "markdown",
   "metadata": {},
   "source": [
    "The first line contains the respective space-separated numerator and denominator for the probability of a \n",
    "defect, and the second line contains the inspection we want the probability of the first defect being \n",
    "discovered by: <br>\n",
    "1 3 <br>\n",
    "5 <br>\n",
    "If you do not wish to read this information from stdin, you can hard-code it into your program."
   ]
  },
  {
   "cell_type": "markdown",
   "metadata": {},
   "source": [
    "### Output Format"
   ]
  },
  {
   "cell_type": "markdown",
   "metadata": {},
   "source": [
    "Print a single line denoting the answer, rounded to a scale of 3 decimal places (i.e., 1.234 format)."
   ]
  },
  {
   "cell_type": "markdown",
   "metadata": {},
   "source": [
    "### Solution"
   ]
  },
  {
   "cell_type": "markdown",
   "metadata": {},
   "source": [
    "The desired probability will be equal to sum of probabilities of finding the first defect on attempts from 1 to 5."
   ]
  },
  {
   "cell_type": "code",
   "execution_count": 5,
   "metadata": {},
   "outputs": [
    {
     "name": "stdout",
     "output_type": "stream",
     "text": [
      "\"1 3\"\n",
      "5\n",
      "0.868\n"
     ]
    }
   ],
   "source": [
    "numerator, denominator = [float(s) for s in input().split()]\n",
    "n = int(input()) \n",
    "\n",
    "p = numerator / denominator\n",
    "q = 1 - p\n",
    "\n",
    "p_inspections = [q ** (i - 1) * p for i in range(1, n+1)]\n",
    "p_total = sum(p_inspections) \n",
    "print(\"{0:.3f}\".format(p_total)) "
   ]
  },
  {
   "cell_type": "code",
   "execution_count": null,
   "metadata": {},
   "outputs": [],
   "source": []
  }
 ],
 "metadata": {
  "kernelspec": {
   "display_name": "Python 3",
   "language": "python",
   "name": "python3"
  },
  "language_info": {
   "codemirror_mode": {
    "name": "ipython",
    "version": 3
   },
   "file_extension": ".py",
   "mimetype": "text/x-python",
   "name": "python",
   "nbconvert_exporter": "python",
   "pygments_lexer": "ipython3",
   "version": "3.7.3"
  }
 },
 "nbformat": 4,
 "nbformat_minor": 2
}
