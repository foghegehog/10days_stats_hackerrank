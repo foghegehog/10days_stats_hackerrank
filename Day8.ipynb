{
 "cells": [
  {
   "cell_type": "markdown",
   "metadata": {},
   "source": [
    "# I. Least Square Regression Line"
   ]
  },
  {
   "cell_type": "markdown",
   "metadata": {},
   "source": [
    "### Task"
   ]
  },
  {
   "cell_type": "markdown",
   "metadata": {},
   "source": [
    "A group of five students enrolls in Statistics immediately after taking a Math aptitude test. Each student's \n",
    "Math aptitude test score, x, and Statistics course grade, y, can be expressed as the following list of \n",
    "points: \n",
    "1. (95, 85)\n",
    "2. (85, 95)\n",
    "3. (80, 70)\n",
    "4. (70, 65)\n",
    "5. (60, 70)<br><br>\n",
    "If a student scored an 80 on the Math aptitude test, what grade would we expect them to achieve in \n",
    "Statistics? Determine the equation of the best-fit line using the least squares method, then compute and \n",
    "print the value y of when x=80."
   ]
  },
  {
   "cell_type": "markdown",
   "metadata": {},
   "source": [
    "### Input format"
   ]
  },
  {
   "cell_type": "markdown",
   "metadata": {},
   "source": [
    "There are five lines of input; each line contains two space-separated integers describing a student's \n",
    "respective and grades: <br>\n",
    "95 85 <br>\n",
    "85 95 <br>\n",
    "80 70 <br>\n",
    "70 65 <br>\n",
    "60 70 <br><br>\n",
    "If you do not wish to read this information from stdin, you can hard-code it into your program."
   ]
  },
  {
   "cell_type": "markdown",
   "metadata": {},
   "source": [
    "### Output Format"
   ]
  },
  {
   "cell_type": "markdown",
   "metadata": {},
   "source": [
    "Print a single line denoting the answer, rounded to a scale of 3 decimal places (i.e., 1.234 format)."
   ]
  },
  {
   "cell_type": "markdown",
   "metadata": {},
   "source": [
    "### Solution"
   ]
  },
  {
   "cell_type": "markdown",
   "metadata": {},
   "source": [
    "When using the Least Square Regression Line method, coefficients of the line $y=a+bx$ can be found by following formulas:\n",
    "$$b=\\frac{n \\sum(x_i y_i) - (\\sum x_i) (\\sum y_i)} {n \\sum (x_i^2)-(\\sum x_i) ^2} \\\\\n",
    "a=\\bar{y}-b \\cdot \\bar{x} \\\\ \\text{where } \\bar{y} \\text{ is the mean of Y and } \\bar{x} \\text{ is the mean of X. } $$"
   ]
  },
  {
   "cell_type": "markdown",
   "metadata": {},
   "source": [
    "### Code"
   ]
  },
  {
   "cell_type": "code",
   "execution_count": 2,
   "metadata": {},
   "outputs": [
    {
     "name": "stdout",
     "output_type": "stream",
     "text": [
      "\"95 85\"\n",
      "\"85 95\"\n",
      "\"80 70\"\n",
      "\"70 65\"\n",
      "\"60 70\"\n",
      "78.288\n"
     ]
    }
   ],
   "source": [
    "x = []\n",
    "y = []\n",
    "n = 5\n",
    "for i in range(n):\n",
    "    xi, yi = input().split(' ')\n",
    "    x.append(float(xi))\n",
    "    y.append(float(yi))\n",
    "    \n",
    "sum_xy = sum([xi*yi for (xi,yi) in zip(x,y)])\n",
    "sum_x = sum(x)\n",
    "sum_y = sum(y)\n",
    "sum_sq_x = sum([xi**2 for xi in x])\n",
    "\n",
    "b = (n*sum_xy - sum_x*sum_y) / (n*sum_sq_x - sum_x**2)\n",
    "\n",
    "mean_x = sum_x / n\n",
    "mean_y = sum_y / n\n",
    "\n",
    "a = mean_y - b * mean_x\n",
    "\n",
    "x_target = 80\n",
    "y_target = a + b*x_target\n",
    "\n",
    "print('{:.3f}'.format(y_target))"
   ]
  },
  {
   "cell_type": "markdown",
   "metadata": {},
   "source": [
    "# II. Pearson Correlation Coefficient II"
   ]
  },
  {
   "cell_type": "markdown",
   "metadata": {},
   "source": [
    "### Task"
   ]
  },
  {
   "cell_type": "markdown",
   "metadata": {},
   "source": [
    "The regression line of y on x is $3x+4y+8=0$, and the regression line of x on y is $4x+3y+7=0$. What is the value of the Pearson correlation coefficient?\n",
    "<ul>\n",
    "<li>1</li>\n",
    "<li>-1</li>\n",
    "<li>3/4</li>\n",
    "<li>4/3</li>\n",
    "<li>-4/3</li>\n",
    "<li><b>-3/4</b></li>\n",
    "</ul>"
   ]
  },
  {
   "cell_type": "markdown",
   "metadata": {},
   "source": [
    "### Solution"
   ]
  },
  {
   "cell_type": "markdown",
   "metadata": {},
   "source": [
    "Another formula that allows to calculate b coefficient of regression line using Pearson Correlation Coefficient is:\n",
    "$$b=\\rho \\frac{\\sigma_Y} {\\sigma_X}$$\n",
    "Let's multiply b coefficients for given two lines:\n",
    "$$b_Y \\cdot b_X = \\rho \\cdot \\frac{\\sigma_Y} {\\sigma_X} \\cdot \\rho \\cdot \\frac{\\sigma_X} {\\sigma_Y} = \\rho ^2$$\n",
    "The b coefficients of regression lines y on x and x on y are both -3/4. Thus, \n",
    "$$\\rho=\\pm \\sqrt{-\\frac{3}{4} \\cdot (-\\frac{3}{4})} =\\pm \\frac{3}{4}$$\n",
    "As the $\\sigma$ value cannot be negative, the $\\rho$ coefficient has the same sign as b. So, the answer is -3/4."
   ]
  },
  {
   "cell_type": "code",
   "execution_count": null,
   "metadata": {},
   "outputs": [],
   "source": []
  }
 ],
 "metadata": {
  "kernelspec": {
   "display_name": "Python 2",
   "language": "python",
   "name": "python2"
  },
  "language_info": {
   "codemirror_mode": {
    "name": "ipython",
    "version": 2
   },
   "file_extension": ".py",
   "mimetype": "text/x-python",
   "name": "python",
   "nbconvert_exporter": "python",
   "pygments_lexer": "ipython2",
   "version": "2.7.15"
  }
 },
 "nbformat": 4,
 "nbformat_minor": 2
}
