{
 "cells": [
  {
   "cell_type": "markdown",
   "metadata": {},
   "source": [
    "# I. Normal Distribution I"
   ]
  },
  {
   "cell_type": "markdown",
   "metadata": {},
   "source": [
    "### Task"
   ]
  },
  {
   "cell_type": "markdown",
   "metadata": {},
   "source": [
    "In a certain plant, the time taken to assemble a car is a random variable, X, having a normal distribution \n",
    "with a mean of 20 hours and a standard deviation of 2 hours. What is the probability that a car can be \n",
    "assembled at this plant in: <br>\n",
    "1. Less than 19.5 hours? <br>\n",
    "2. Between 20 and 22 hours?<br>"
   ]
  },
  {
   "cell_type": "markdown",
   "metadata": {},
   "source": [
    "### Input format"
   ]
  },
  {
   "cell_type": "markdown",
   "metadata": {},
   "source": [
    "There are 3 lines of input (shown below): <br>\n",
    "20 2 <br>\n",
    "19.5 <br>\n",
    "20 22 <br>\n",
    "The first line contains 2 space-separated values denoting the respective mean and standard deviation for X. <br>\n",
    "The second line contains the number associated with question 1. <br>The third line contains 2 space-separated \n",
    "values describing the respective lower and upper range boundaries for question 2. <br>\n",
    "If you do not wish to read this information from stdin, you can hard-code it into your program."
   ]
  },
  {
   "cell_type": "markdown",
   "metadata": {},
   "source": [
    "### Output Format"
   ]
  },
  {
   "cell_type": "markdown",
   "metadata": {},
   "source": [
    "There are two lines of output. Your answers must be rounded to a scale of 3 decimal places (i.e., 1.234 \n",
    "format): \n",
    "1. On the first line, print the answer to question 1(i.e., the probability that a car can be assembled in less than 19.5 hours). \n",
    "2. On the second line, print the answer to question 2 (i.e., the probability that a car can be assembled in \n",
    "between 20 to 22 hours)."
   ]
  },
  {
   "cell_type": "markdown",
   "metadata": {},
   "source": [
    "### Solution"
   ]
  },
  {
   "cell_type": "markdown",
   "metadata": {},
   "source": [
    "The first probability will be equal to the value of cumulative distribution function F(x), that is the probability that X will have value less or equal to the argument x:<br>\n",
    "$$F_X(x) = P(X \\leq x)$$<br>\n",
    "The cumulative distribution function for normal distribution is:<br>\n",
    "$$\\Phi=\\frac{1}{2}\\lgroup 1 + erf \\lgroup \\frac{x-\\mu}{\\sigma \\sqrt{2}} \\rgroup \\rgroup$$<br>\n",
    "Where erf is:<br>\n",
    "$$erf(z) =\\frac{2}{\\sqrt{\\pi}} \\int_0^z e^{-x^2}dx$$<br>\n",
    "It ia also implemented in standard python library <b>math</b>. <br><br>\n",
    "The answer to the second question will be equal to the difference of cumulative function at two specified points:<br>\n",
    "$$P(a \\leq X \\leq b) =F_X(b) - F_X(a)$$"
   ]
  },
  {
   "cell_type": "markdown",
   "metadata": {},
   "source": [
    "### Code"
   ]
  },
  {
   "cell_type": "code",
   "execution_count": 2,
   "metadata": {},
   "outputs": [],
   "source": [
    "import math\n",
    "\n",
    "def phi_big(x, mju, sigma):\n",
    "    return 0.5 * (1 + math.erf((x-mju)/(sigma*2**0.5)))"
   ]
  },
  {
   "cell_type": "code",
   "execution_count": 1,
   "metadata": {},
   "outputs": [
    {
     "name": "stdout",
     "output_type": "stream",
     "text": [
      "\"20 2\"\n",
      "19.5\n",
      "\"20 22\"\n",
      "0.401\n",
      "0.341\n"
     ]
    }
   ],
   "source": [
    "mean, dev = [float(s) for s in input().split(' ')]\n",
    "less_than = float(input())\n",
    "lower_boundary, upper_boundary = [float(s) for s in input().split(' ')]\n",
    "\n",
    "p1 = phi_big(less_than, mean, dev)\n",
    "p2 = phi_big(upper_boundary, mean, dev) - phi_big(lower_boundary, mean, dev)\n",
    "\n",
    "print('{:.3f}'.format(p1))\n",
    "print('{:.3f}'.format(p2))"
   ]
  },
  {
   "cell_type": "markdown",
   "metadata": {},
   "source": [
    "# II. Normal Distribution II"
   ]
  },
  {
   "cell_type": "markdown",
   "metadata": {},
   "source": [
    "### Task"
   ]
  },
  {
   "cell_type": "markdown",
   "metadata": {},
   "source": [
    "The final grades for a Physics exam taken by a large group of students have a mean of $\\mu=70$ and a \n",
    "standard deviation of $\\sigma=10$. If we can approximate the distribution of these grades by a normal \n",
    "distribution, what percentage of the students: \n",
    "1. Scored higher than 80 (i.e., have a $grade >80$)? \n",
    "2. Passed the test (i.e., have a $grade \\geq 60$)? \n",
    "3. Failed the test (i.e., have a $grade <60$)? <br>\n",
    "Find and print the answer to each question on a new line, rounded to a scale of decimal places."
   ]
  },
  {
   "cell_type": "markdown",
   "metadata": {},
   "source": [
    "### Input format"
   ]
  },
  {
   "cell_type": "markdown",
   "metadata": {},
   "source": [
    "There are 3 lines of input (shown below): <br>\n",
    "70 10 <br>\n",
    "80 <br>\n",
    "60 <br>\n",
    "The first line contains 2 space-separated values denoting the respective mean and standard deviation for the \n",
    "exam. The second line contains the number associated with question 1. The third line contains the pass/fail \n",
    "threshold number associated with questions 2 and 3. <br><br>\n",
    "If you do not wish to read this information from stdin, you can hard-code it into your program."
   ]
  },
  {
   "cell_type": "markdown",
   "metadata": {},
   "source": [
    "### Output Format"
   ]
  },
  {
   "cell_type": "markdown",
   "metadata": {},
   "source": [
    "There are three lines of output. Your answers must be rounded to a scale of 2 decimal places (i.e., 1.23\n",
    "format): \n",
    "1. On the first line, print the answer to question 1 (i.e., the percentage of students having $grade >80$). \n",
    "2. On the second line, print the answer to question 2 (i.e., the percentage of students having $grade \\geq 60$\n",
    "). \n",
    "3. On the third line, print the answer to question 3 (i.e., the percentage of students having $grade < 60$)."
   ]
  },
  {
   "cell_type": "markdown",
   "metadata": {},
   "source": [
    "### Solution"
   ]
  },
  {
   "cell_type": "markdown",
   "metadata": {},
   "source": [
    "Again, the cummulative distribution function can be used to get answer to all three questions. <br>\n",
    "For the 1st question it allows to calculate the probability of getting grades <i>not more than</i> 80: $$P(X \\leq 80)=F_X(80)$$ and then, by subtractilng this value from <b>1</b> get the percentage of students having  $grade>80$. <br><br>\n",
    "The percentage of students having $grade \\geq 60$ will be equal to the sum of previously found value and percentage of students having $60 \\leq grade \\leq 80$:\n",
    "$$P_{\\geq 60}=P_{> 80}+P(60 \\leq X \\leq 80)=P_{> 80}+(F_X(80)-F_X(60))$$<br>\n",
    "The answer to the 3rd question can be calculated by subtracting percentage of students having $grade \\geq 60$ from <b>1</b>."
   ]
  },
  {
   "cell_type": "markdown",
   "metadata": {},
   "source": [
    "### Code"
   ]
  },
  {
   "cell_type": "code",
   "execution_count": 3,
   "metadata": {},
   "outputs": [
    {
     "name": "stdout",
     "output_type": "stream",
     "text": [
      "\"70 10\"\n",
      "80\n",
      "60\n",
      "15.87\n",
      "84.13\n",
      "15.87\n"
     ]
    }
   ],
   "source": [
    "import math\n",
    "\n",
    "out_format = '{:0.2f}'\n",
    "\n",
    "mean, dev = [float(s) for s in input().split()]\n",
    "highest_boundary = float(input())\n",
    "lowest_boundaty = float(input())\n",
    "\n",
    "under_highest_boundary = phi_big(highest_boundary, mean, dev)\n",
    "above_highest_boundary = 1 - under_highest_boundary\n",
    "\n",
    "between_boundaries = under_highest_boundary - phi_big(lowest_boundaty, mean, dev)\n",
    "above_lower_boundary = between_boundaries + above_highest_boundary\n",
    "under_lower_boundary = 1 - above_lower_boundary\n",
    "\n",
    "print(out_format.format(above_highest_boundary*100))\n",
    "print(out_format.format(above_lower_boundary*100))\n",
    "print(out_format.format(under_lower_boundary*100))"
   ]
  },
  {
   "cell_type": "markdown",
   "metadata": {},
   "source": [
    "# III. Poisson Distribution I"
   ]
  },
  {
   "cell_type": "markdown",
   "metadata": {},
   "source": [
    "### Task"
   ]
  },
  {
   "cell_type": "markdown",
   "metadata": {},
   "source": [
    "A random variable, <b>X</b>, follows Poisson distribution with mean of 2.5. Find the probability with which the \n",
    "random variable <b>X</b> is equal to 5."
   ]
  },
  {
   "cell_type": "markdown",
   "metadata": {},
   "source": [
    "### Input format"
   ]
  },
  {
   "cell_type": "markdown",
   "metadata": {},
   "source": [
    "The first line contains <b>X</b>'s mean. The second line contains the value we want the probability for: <br>\n",
    "2.5 <br>\n",
    "5 <br>\n",
    "If you do not wish to read this information from stdin, you can hard-code it into your program."
   ]
  },
  {
   "cell_type": "markdown",
   "metadata": {},
   "source": [
    "### Output Format"
   ]
  },
  {
   "cell_type": "markdown",
   "metadata": {},
   "source": [
    "Print a single line denoting the answer, rounded to a scale of decimal 3 places (i.e., 1.234 format)."
   ]
  },
  {
   "cell_type": "markdown",
   "metadata": {},
   "source": [
    "### Solution"
   ]
  },
  {
   "cell_type": "markdown",
   "metadata": {},
   "source": [
    "The answer can be calculated with the formula of Poisson distribution:\n",
    "$$P(\\lambda, k) = \\frac{\\lambda ^ k e^{-\\lambda}} {k!} $$"
   ]
  },
  {
   "cell_type": "markdown",
   "metadata": {},
   "source": [
    "### Code"
   ]
  },
  {
   "cell_type": "code",
   "execution_count": 4,
   "metadata": {},
   "outputs": [
    {
     "name": "stdout",
     "output_type": "stream",
     "text": [
      "2.5\n",
      "5\n",
      "0.067\n"
     ]
    }
   ],
   "source": [
    "import math\n",
    "\n",
    "def poisson(lmbd, k):\n",
    "    return lmbd**k * math.e **(-lmbd) / math.factorial(k)\n",
    "\n",
    "m = float(input())\n",
    "k = int(input())\n",
    "\n",
    "p = poisson(m, k)\n",
    "\n",
    "print('{:.3f}'.format(p))"
   ]
  },
  {
   "cell_type": "markdown",
   "metadata": {},
   "source": [
    "# IV. Poisson Distribution II"
   ]
  },
  {
   "cell_type": "markdown",
   "metadata": {},
   "source": [
    "### Task"
   ]
  },
  {
   "cell_type": "markdown",
   "metadata": {},
   "source": [
    "The manager of a industrial plant is planning to buy a machine of either type <b>A</b> or type <b>B</b>. For each day’s operation: \n",
    "<ul>\n",
    "<li>\n",
    "The number of repairs, <b>X</b>, that machine <b>A</b> needs is a Poisson random variable with mean <b>0.88</b>. The daily cost of operating <b>A</b> is $C_A=160+40X^2$. </li>\n",
    "<li>The number of repairs, <b>Y</b>, that machine <b>B</b> needs is a Poisson random variable with mean <b>1.55</b>. The daily cost of operating <b>B</b> is $C_B=128+40Y^2$. </li>\n",
    "</ul>\n",
    "<br>\n",
    "Assume that the repairs take a negligible amount of time and the machines are maintained nightly to \n",
    "ensure that they operate like new at the start of each day. Find and print the expected daily cost for each \n",
    "machine."
   ]
  },
  {
   "cell_type": "markdown",
   "metadata": {},
   "source": [
    "### Input format"
   ]
  },
  {
   "cell_type": "markdown",
   "metadata": {},
   "source": [
    "A single line comprised of 2 space-separated values denoting the respective means for <b>A</b> and <b>B</b>: <br>\n",
    "0.88 1.55 <br>\n",
    "If you do not wish to read this information from stdin, you can hard-code it into your program."
   ]
  },
  {
   "cell_type": "markdown",
   "metadata": {},
   "source": [
    "### Output Format"
   ]
  },
  {
   "cell_type": "markdown",
   "metadata": {},
   "source": [
    "There are two lines of output. Your answers must be rounded to a scale of 3 decimal places (i.e., 1.234 \n",
    "format): \n",
    "1. On the first line, print the expected daily cost of machine <b>A</b>. \n",
    "2. On the second line, print the expected daily cost of machine <b>B</b>."
   ]
  },
  {
   "cell_type": "markdown",
   "metadata": {},
   "source": [
    "### Solution"
   ]
  },
  {
   "cell_type": "markdown",
   "metadata": {},
   "source": [
    "To find cost of operating both machines, the means of squares of each random variable should be calculated, <b>$E[X^2]$</b> and <b>$E[Y^2]$</b>.<br>\n",
    "Knowing that both mean and variance of Poisson distribution are $$E[X] =Var(X)=\\lambda$$ we can write:<br>\n",
    "$$Var(X) =E[X^2] - (E[X])^2 \\\\\n",
    "=> E[X^2]=Var(X)+(E[X])^2 =\\lambda +\\lambda^2$$\n",
    "Now, values calculated by this formula can be used in equations for both machines' daily operations. "
   ]
  },
  {
   "cell_type": "markdown",
   "metadata": {},
   "source": [
    "### Code"
   ]
  },
  {
   "cell_type": "code",
   "execution_count": 1,
   "metadata": {},
   "outputs": [
    {
     "name": "stdout",
     "output_type": "stream",
     "text": [
      "\"0.88 1.55\"\n",
      "226.176\n",
      "286.100\n"
     ]
    }
   ],
   "source": [
    "def mean_squared_poisson(lmbd):\n",
    "    return lmbd + lmbd**2\n",
    "\n",
    "def calc_cost(free_coeff, mutiply_coeff, val):\n",
    "    return free_coeff + mutiply_coeff * val\n",
    "\n",
    "x, y = [float(s) for s in input().split(' ')]\n",
    "\n",
    "x_sqr_mean = mean_squared_poisson(x)\n",
    "y_sqr_mean = mean_squared_poisson(y)\n",
    "\n",
    "c_a = calc_cost(160, 40, x_sqr_mean)\n",
    "c_b = calc_cost(128, 40, y_sqr_mean)\n",
    "\n",
    "print('{:.3f}'.format(c_a))\n",
    "print('{:.3f}'.format(c_b))"
   ]
  },
  {
   "cell_type": "code",
   "execution_count": null,
   "metadata": {},
   "outputs": [],
   "source": []
  }
 ],
 "metadata": {
  "kernelspec": {
   "display_name": "Python 2",
   "language": "python",
   "name": "python2"
  },
  "language_info": {
   "codemirror_mode": {
    "name": "ipython",
    "version": 2
   },
   "file_extension": ".py",
   "mimetype": "text/x-python",
   "name": "python",
   "nbconvert_exporter": "python",
   "pygments_lexer": "ipython2",
   "version": "2.7.15"
  }
 },
 "nbformat": 4,
 "nbformat_minor": 2
}
