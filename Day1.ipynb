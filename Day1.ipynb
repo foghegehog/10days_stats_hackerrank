{
 "cells": [
  {
   "cell_type": "markdown",
   "metadata": {},
   "source": [
    "# I. Quartiles"
   ]
  },
  {
   "cell_type": "markdown",
   "metadata": {},
   "source": [
    "### Task "
   ]
  },
  {
   "cell_type": "markdown",
   "metadata": {},
   "source": [
    "$\\textrm{Given an array, } X \\textrm{, of } n \\textrm{ integers, calculate the respective first quartile } (Q_1) \\textrm{, second quartile } (Q_2) \\textrm{, and third quartile } (Q_3) \\textrm{. } \\\\ \\textrm{It is guaranteed that } Q_1 \\textrm{, } Q_2 \\textrm{, and } Q_3 \\textrm{ are integers.} $"
   ]
  },
  {
   "cell_type": "markdown",
   "metadata": {},
   "source": [
    "### Input Format"
   ]
  },
  {
   "cell_type": "markdown",
   "metadata": {},
   "source": [
    "The first line contains an integer, <b><i>n</i></b> , denoting the number of elements in the array. \n",
    "The second line contains <b><i>n</i></b> space-separated integers describing the array's elements."
   ]
  },
  {
   "cell_type": "markdown",
   "metadata": {},
   "source": [
    "### Constraints"
   ]
  },
  {
   "cell_type": "markdown",
   "metadata": {},
   "source": [
    "$\n",
    "\\begin{align} \n",
    "5<n \\leq 50\n",
    "\\end{align} \n",
    "$\n",
    "<br>\n",
    "$\n",
    "\\begin{align} \n",
    "0<x_i\\leq 100, \\textrm{ where } x_i\\textrm{ is the } i^{th} \\textrm{elements of array} \n",
    "\\end{align}\n",
    "$"
   ]
  },
  {
   "cell_type": "markdown",
   "metadata": {},
   "source": [
    "### Output Format"
   ]
  },
  {
   "cell_type": "markdown",
   "metadata": {},
   "source": [
    "Print <b>3</b> lines of output in the following order:<br>\n",
    "$\n",
    "\\textrm{1. The first line should be the value of } Q_1. \\\\\n",
    "\\textrm{2. The second line should be the value of } Q_2.\\\\\n",
    "\\textrm{3. The third line should be the value of } Q_3.\n",
    "$"
   ]
  },
  {
   "cell_type": "markdown",
   "metadata": {},
   "source": [
    "### Sample Input"
   ]
  },
  {
   "cell_type": "markdown",
   "metadata": {},
   "source": [
    "9 <br>\n",
    "3 7 8 5 12 14 21 13 18"
   ]
  },
  {
   "cell_type": "markdown",
   "metadata": {},
   "source": [
    "### Sample Output"
   ]
  },
  {
   "cell_type": "markdown",
   "metadata": {},
   "source": [
    "6<br>\n",
    "12<br>\n",
    "16<br>"
   ]
  },
  {
   "cell_type": "markdown",
   "metadata": {},
   "source": [
    "### Explanation"
   ]
  },
  {
   "cell_type": "markdown",
   "metadata": {},
   "source": [
    "<b>X={3, 7, 8, 5, 12, 14, 21, 13, 18}</b>. When we sort the elements in non-decreasing order, we get <b>X={3, 5, 7, 8, 12, 13, 14, 18, 21}</b>. It's easy to see that <i>median</i>(<b>X</b>)=12.<br>\n",
    "As there are an odd number of data points, we do not include the median (the central value in the ordered list) in either half:<br>\n",
    "Lower half (L): 3, 5, 7, 8<br>\n",
    "Upper half (U): 13, 14, 18, 21<br>\n",
    "<br>\n",
    "Now, we find the quartiles:<br>\n",
    "$\\begin{align} Q_1 \\textrm{ is the } median(L) \\textrm{. So, }Q_1=\\frac{5+7}{2}=6\n",
    "\\end{align} \n",
    "$\n",
    "<br>\n",
    "$\\begin{align} \n",
    "Q_2 \\textrm { is the } median(X) \\textrm{. So, } Q_2=12\n",
    "\\end{align} \n",
    "$\n",
    "<br>\n",
    "$\\begin{align} Q_3 \\textrm{ is the } median(U) \\textrm{. So, }Q_3=\\frac{14+18}{2}=16\n",
    "\\end{align} \n",
    "$"
   ]
  },
  {
   "cell_type": "markdown",
   "metadata": {},
   "source": [
    "### Code"
   ]
  },
  {
   "cell_type": "code",
   "execution_count": 1,
   "metadata": {},
   "outputs": [],
   "source": [
    "def is_odd(n):\n",
    "    return n % 2 == 1"
   ]
  },
  {
   "cell_type": "code",
   "execution_count": 2,
   "metadata": {
    "scrolled": true
   },
   "outputs": [],
   "source": [
    "def get_median(n, x_sorted):\n",
    "    if is_odd(n):\n",
    "        median = x_sorted[n // 2] \n",
    "    else:\n",
    "        median = (x_sorted[n // 2 - 1] + x_sorted[n // 2]) / 2.0\n",
    "\n",
    "    return median"
   ]
  },
  {
   "cell_type": "code",
   "execution_count": 3,
   "metadata": {},
   "outputs": [],
   "source": [
    "def split_list(n, x_sorted):\n",
    "    if is_odd(n):\n",
    "        middle = n // 2 - 1\n",
    "        l = x_sorted[:middle] \n",
    "        u = x_sorted[middle + 2:]\n",
    "    else:\n",
    "        first_u = n // 2\n",
    "        l = x_sorted[:first_u] \n",
    "        u = x_sorted[first_u:] \n",
    "        \n",
    "    return l, u"
   ]
  },
  {
   "cell_type": "code",
   "execution_count": 4,
   "metadata": {},
   "outputs": [
    {
     "name": "stdout",
     "output_type": "stream",
     "text": [
      "9\n",
      "\"3 7 8 5 12 14 21 13 18\"\n",
      "6\n",
      "12\n",
      "16\n"
     ]
    }
   ],
   "source": [
    "n = int(input()) \n",
    "x = [int(xi) for xi in input().split()] \n",
    "\n",
    "x_sorted = list(x)\n",
    "x_sorted.sort() \n",
    "\n",
    "q2 = get_median(n, x_sorted) \n",
    "\n",
    "l, u = split_list(n, x_sorted) \n",
    "    \n",
    "q1 = get_median(n // 2, l) \n",
    "q3 = get_median(n // 2, u) \n",
    "\n",
    "print(int(q1)) \n",
    "print(int(q2)) \n",
    "print(int(q3)) "
   ]
  },
  {
   "cell_type": "markdown",
   "metadata": {},
   "source": [
    "# II. Interquartile Range\n"
   ]
  },
  {
   "cell_type": "markdown",
   "metadata": {},
   "source": [
    "### Task"
   ]
  },
  {
   "cell_type": "markdown",
   "metadata": {},
   "source": [
    "The interquartile range of an array is the difference between its first and third quartiles: $$Q_3-Q_1$$\n",
    "<br>\n",
    "Given an array, <b>X</b>, of  integers and an array, <b>F</b>, representing the respective frequencies of <b>X</b>'s elements, construct a data set, <b>S</b>, where each <i>xi</i> occurs at frequency <i>fi</i>. Then calculate and print <b>X</b>'s interquartile range, rounded to a scale of 1 decimal place.\n",
    "<br><br>\n",
    "<b>Tip</b>: Be careful to not use integer division when averaging the middle two elements for a data set with an even number of elements, and be sure to not include the median in your upper and lower data sets."
   ]
  },
  {
   "cell_type": "markdown",
   "metadata": {},
   "source": [
    "### Input Format"
   ]
  },
  {
   "cell_type": "markdown",
   "metadata": {},
   "source": [
    "The first line contains an integer, <b>n</b>, denoting the number of elements in arrays <b>X</b> and <b>F</b>. \n",
    "The second line contains  space-separated integers describing the respective elements of array <b>X</b>. \n",
    "The third line contains  space-separated integers describing the respective elements of array <b>F</b>."
   ]
  },
  {
   "cell_type": "markdown",
   "metadata": {},
   "source": [
    "### Constraints"
   ]
  },
  {
   "cell_type": "markdown",
   "metadata": {},
   "source": [
    "$\n",
    "\\begin{align} \n",
    "5 \\leq n \\leq 50\n",
    "\\end{align} \n",
    "$\n",
    "<br>\n",
    "$\n",
    "\\begin{align} \n",
    "0<x_i\\leq 100, \\textrm{ where } x_i\\textrm{ is the } i^{th} \\textrm{elements of array X} \n",
    "\\end{align}\n",
    "$\n",
    "<br>\n",
    "$\n",
    "\\begin{align} \n",
    "0< \\sum_{i=0}^{n-1}f_i\\leq 10^3, \\textrm{ where } f_i\\textrm{ is the } i^{th} \\textrm{elements of array F} \n",
    "\\end{align}\n",
    "$\n",
    "<br>\n",
    "$\n",
    "\\begin{align} \n",
    "\\textrm{ The number of elements in } S\\textrm{ is equal to } \\sum F\n",
    "\\end{align}\n",
    "$"
   ]
  },
  {
   "cell_type": "markdown",
   "metadata": {},
   "source": [
    "### Output Format"
   ]
  },
  {
   "cell_type": "markdown",
   "metadata": {},
   "source": [
    "Print the interquartile range for the expanded data set on a new line. Round your answer to a scale of 1 decimal place. "
   ]
  },
  {
   "cell_type": "markdown",
   "metadata": {},
   "source": [
    "### Sample Input"
   ]
  },
  {
   "cell_type": "markdown",
   "metadata": {},
   "source": [
    "6<br>\n",
    "6 12 8 10 20 16<br>\n",
    "5 4 3 2 1 5"
   ]
  },
  {
   "cell_type": "markdown",
   "metadata": {},
   "source": [
    "### Sample output"
   ]
  },
  {
   "cell_type": "markdown",
   "metadata": {},
   "source": [
    "9.0"
   ]
  },
  {
   "cell_type": "markdown",
   "metadata": {},
   "source": [
    "### Explanation"
   ]
  },
  {
   "cell_type": "markdown",
   "metadata": {},
   "source": [
    "The given data is:\n",
    "<table>\n",
    "<tr><td>Element</td><td>Frequency</td></tr>\n",
    "<tr><td>6</td><td>5</td></tr>\n",
    "<tr><td>12</td><td>4</td></tr>\n",
    "<tr><td>8</td><td>3</td></tr>\n",
    "<tr><td>10</td><td>2</td></tr>\n",
    "<tr><td>20</td><td>1</td></tr>\n",
    "<tr><td>16</td><td>5</td></tr>\n",
    "</table>\n",
    "First, we create data set <b>S</b> containing the data from set <b>X</b> at the respective frequencies specified by <b>X</b>: <br>\n",
    "<b>S={6,6,6,6,6,12,12,12,12,8,8,8,10,10,20,16,16,16,16,16}</b><br>\n",
    "As there are an even number of data points in the original ordered data set, we will split this data set exactly in half:<br>\n",
    "\n",
    "Lower half (L): 6, 6, 6, 6, 6, 8, 8, 8, 10, 10<br>\n",
    "\n",
    "Upper half (U): 12, 12, 12, 12, 16, 16, 16, 16, 16, 20<br><br>\n"
   ]
  },
  {
   "cell_type": "markdown",
   "metadata": {},
   "source": [
    "Now we find Q1. \n",
    "There are 10 elements in lower half, so it is the average of the middle two elements, 6 and 8. Thus,\n",
    "$$Q_1= \\frac{6+8}{2}=7.0$$\n",
    "<br>Next, we find Q_3. \n",
    "There are 10 elements in upper half, so it is the average of the middle two elements, 16 and 16. Thus,\n",
    "$$Q_3= \\frac{16+16}{2}=16.0$$\n",
    "\n",
    "From this, we calculate the interquartile range as $$Q_3-Q_1=16.0-7.0=9.0$$ and print our answer."
   ]
  },
  {
   "cell_type": "markdown",
   "metadata": {},
   "source": [
    "### Code"
   ]
  },
  {
   "cell_type": "code",
   "execution_count": 6,
   "metadata": {},
   "outputs": [
    {
     "name": "stdout",
     "output_type": "stream",
     "text": [
      "6\n",
      "\"6 12 8 10 20 16\"\n",
      "\"5 4 3 2 1 5\"\n",
      "9.0\n"
     ]
    }
   ],
   "source": [
    "n = int(input()) \n",
    "x = [int(xi) for xi in input().split()]\n",
    "f = [int(fi) for fi in input().split()]\n",
    "\n",
    "xf = [[xi] * fi for xi, fi in zip(x, f)] \n",
    "# flatten\n",
    "s = [item for sublist in xf for item in sublist]\n",
    "s.sort()\n",
    "\n",
    "sn = sum(f) \n",
    "\n",
    "l, u = split_list(sn, s) \n",
    "    \n",
    "q1 = get_median(sn // 2, l) \n",
    "q3 = get_median(sn // 2, u) \n",
    "\n",
    "print(\"{0:.1f}\".format(q3 - q1))  "
   ]
  },
  {
   "cell_type": "markdown",
   "metadata": {},
   "source": [
    "# III. Standard Deviation"
   ]
  },
  {
   "cell_type": "markdown",
   "metadata": {},
   "source": [
    "### Task "
   ]
  },
  {
   "cell_type": "markdown",
   "metadata": {},
   "source": [
    "Given an array, <b>X</b>, of <b>N</b> integers, calculate and print the standard deviation. Your answer should be in decimal form, rounded to a scale of 1 decimal place (i.e., 12.3 format). An error margin of ±0.1 will be tolerated for the standard deviation."
   ]
  },
  {
   "cell_type": "markdown",
   "metadata": {},
   "source": [
    "### Input Format"
   ]
  },
  {
   "cell_type": "markdown",
   "metadata": {},
   "source": [
    "The first line contains an integer, <b>N</b>, denoting the number of elements in the array. \n",
    "The second line contains <b>N</b> space-separated integers describing the respective elements of the array."
   ]
  },
  {
   "cell_type": "markdown",
   "metadata": {},
   "source": [
    "### Constraints"
   ]
  },
  {
   "cell_type": "markdown",
   "metadata": {},
   "source": [
    "$\n",
    "\\begin{align} \n",
    "5\\leq N \\leq 100\n",
    "\\end{align} \n",
    "$\n",
    "<br>\n",
    "$\n",
    "\\begin{align} \n",
    "0<x_i\\leq 10^5, \\textrm{ where } x_i\\textrm{ is the } i^{th} \\textrm{elements of the array} \n",
    "\\end{align}\n",
    "$\n"
   ]
  },
  {
   "cell_type": "markdown",
   "metadata": {},
   "source": [
    "### Output Format"
   ]
  },
  {
   "cell_type": "markdown",
   "metadata": {},
   "source": [
    "Print the standard deviation on a new line, rounded to a scale of  decimal place"
   ]
  },
  {
   "cell_type": "markdown",
   "metadata": {},
   "source": [
    "### Sample Input"
   ]
  },
  {
   "cell_type": "markdown",
   "metadata": {},
   "source": [
    "5<br>\n",
    "10 40 30 50 20"
   ]
  },
  {
   "cell_type": "markdown",
   "metadata": {},
   "source": [
    "### Sample Output"
   ]
  },
  {
   "cell_type": "markdown",
   "metadata": {},
   "source": [
    "14.1"
   ]
  },
  {
   "cell_type": "markdown",
   "metadata": {},
   "source": [
    "### Explanation"
   ]
  },
  {
   "cell_type": "markdown",
   "metadata": {},
   "source": [
    "First, we find the mean: \n",
    "$$\\mu=\\frac{\\sum_{i=0}^{N-1}x_i}{N}=30.0$$\n",
    "Next, we calculate the squared distance from the mean, $$(x_i-\\mu)^2$$\n",
    "$\\begin{align} \\text{ for each }x_i: \\end{align} $\n",
    "$$(x_0-\\mu)^2=(10-30)^2=400$$\n",
    "$$(x_1-\\mu)^2=(40-30)^2=100$$\n",
    "$$(x_2-\\mu)^2=(30-30)^2=0$$\n",
    "$$(x_3-\\mu)^2=(50-30)^2=400$$\n",
    "$$(x_4-\\mu)^2=(20-30)^2=100$$\n",
    "Now we can compute \n",
    "$$\\sum_{i=0}^{N-1}(x_i-\\mu)^2=400+100+0+400+100=1000 \\text{, so:} $$\n",
    "$$\\sigma=\\sqrt\\frac{\\sum_{i=0}^{N-1}(x_i-\\mu)^2}{N}=\\sqrt\\frac{1000}{5}=\\sqrt{200}=14.1421356$$\n",
    "Once rounded to a scale of <b>1</b> decimal place, our result is <b>14.1</b>."
   ]
  },
  {
   "cell_type": "markdown",
   "metadata": {},
   "source": [
    "### Code"
   ]
  },
  {
   "cell_type": "code",
   "execution_count": 10,
   "metadata": {},
   "outputs": [
    {
     "name": "stdout",
     "output_type": "stream",
     "text": [
      "5\n",
      "\"10 40 30 50 20\"\n",
      "14.1\n"
     ]
    }
   ],
   "source": [
    "n = int(input()) \n",
    "x = [int(xi) for xi in input().split()]\n",
    "\n",
    "mu = sum(x) / n\n",
    "dists = [(xi - mu) ** 2 for xi in x] \n",
    "sigma = (sum(dists) / n) ** 0.5\n",
    "\n",
    "print(\"{0:.1f}\".format(sigma)) "
   ]
  },
  {
   "cell_type": "code",
   "execution_count": null,
   "metadata": {},
   "outputs": [],
   "source": []
  }
 ],
 "metadata": {
  "kernelspec": {
   "display_name": "Python 2",
   "language": "python",
   "name": "python2"
  },
  "language_info": {
   "codemirror_mode": {
    "name": "ipython",
    "version": 2
   },
   "file_extension": ".py",
   "mimetype": "text/x-python",
   "name": "python",
   "nbconvert_exporter": "python",
   "pygments_lexer": "ipython2",
   "version": "2.7.15"
  }
 },
 "nbformat": 4,
 "nbformat_minor": 2
}
