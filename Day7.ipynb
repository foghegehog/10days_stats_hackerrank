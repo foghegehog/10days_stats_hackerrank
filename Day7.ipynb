{
 "cells": [
  {
   "cell_type": "markdown",
   "metadata": {},
   "source": [
    "# I. Pearson Correlation Coefficient I"
   ]
  },
  {
   "cell_type": "markdown",
   "metadata": {},
   "source": [
    "### Task"
   ]
  },
  {
   "cell_type": "markdown",
   "metadata": {},
   "source": [
    "Given two n-element data sets, <b>X</b> and <b>Y</b>, calculate the value of the Pearson correlation coefficient."
   ]
  },
  {
   "cell_type": "markdown",
   "metadata": {},
   "source": [
    "### Input format"
   ]
  },
  {
   "cell_type": "markdown",
   "metadata": {},
   "source": [
    "The first line contains an integer, n, denoting the size of data sets <b>X</b> and <b>Y</b>. \n",
    "The second line contains n space-separated real numbers (scaled to at most one decimal place), defining \n",
    "data set <b>X</b>. \n",
    "The third line contains space-separated real numbers (scaled to at most one decimal place), defining \n",
    "data set <b>Y</b>."
   ]
  },
  {
   "cell_type": "markdown",
   "metadata": {},
   "source": [
    "### Constraints"
   ]
  },
  {
   "cell_type": "markdown",
   "metadata": {},
   "source": [
    "<ul>\n",
    "<li>$10 \\leq n \\leq 100$</li>\n",
    "<li>$1 \\leq x_i \\leq 500$ where $x_i$ is the $i^{th} $ value of data set <b>X</b>.</li>\n",
    "<li>$1 \\leq y_i \\leq 500$ where $y_i$ is the $i^{th} $ value of data set <b>Y</b>.</li>\n",
    "<li>Data set <b>X</b> contains unique values.</li>\n",
    "<li>Data set <b>Y</b> contains unique values.</li>\n",
    "</ul>"
   ]
  },
  {
   "cell_type": "markdown",
   "metadata": {},
   "source": [
    "### Output Format"
   ]
  },
  {
   "cell_type": "markdown",
   "metadata": {},
   "source": [
    "Print the value of the Pearson correlation coefficient, rounded to a scale of 3 decimal places."
   ]
  },
  {
   "cell_type": "markdown",
   "metadata": {},
   "source": [
    "### Sample Input"
   ]
  },
  {
   "cell_type": "markdown",
   "metadata": {},
   "source": [
    "10 <br>\n",
    "10 9.8 8 7.8 7.7 7 6 5 4 2 <br>\n",
    "200 44 32 24 22 17 15 12 8 4"
   ]
  },
  {
   "cell_type": "markdown",
   "metadata": {},
   "source": [
    "### Sample Output"
   ]
  },
  {
   "cell_type": "markdown",
   "metadata": {},
   "source": [
    "0.612"
   ]
  },
  {
   "cell_type": "markdown",
   "metadata": {},
   "source": [
    "### Explanation"
   ]
  },
  {
   "cell_type": "markdown",
   "metadata": {},
   "source": [
    "The mean and standard deviation of data set <b>X</b> are: \n",
    "$$\\mu_X=6.73 \\\\\n",
    "\\sigma_X=2.39251$$\n",
    "The mean and standard deviation of data set <b>Y</b> are:\n",
    "$$\\mu_Y=37.8 \\\\\n",
    "\\sigma_Y=55.1993$$\n",
    "We use the following formula to calculate the Pearson correlation coefficient:\n",
    "$$\\rho_{X,Y} =\\frac{\\sum (x_i-\\mu_x)(y_i-\\mu_y)}{n \\cdot \\sigma_X \\cdot \\sigma_Y} $$"
   ]
  },
  {
   "cell_type": "markdown",
   "metadata": {},
   "source": [
    "### Code"
   ]
  },
  {
   "cell_type": "code",
   "execution_count": 6,
   "metadata": {},
   "outputs": [
    {
     "name": "stdout",
     "output_type": "stream",
     "text": [
      "10\n",
      "\"10 9.8 8 7.8 7.7 7 6 5 4 2\"\n",
      "\"200 44 32 24 22 17 15 12 8 4\"\n",
      "0.612\n"
     ]
    }
   ],
   "source": [
    "n = int(input())\n",
    "x = [float(s) for s in input().split()]\n",
    "y = [float(s) for s in input().split()]\n",
    "\n",
    "mean_x = sum(x) / n\n",
    "x_diffs = [(xi - mean_x)**2 for xi in x]\n",
    "std_x = (sum(x_diffs) / n)**0.5\n",
    "\n",
    "mean_y = sum(y) / n\n",
    "y_diffs = [(yi - mean_y)**2 for yi in y]\n",
    "std_y = (sum(y_diffs) / n)**0.5\n",
    "\n",
    "multiplied_difs = [(xi - mean_x)*(yi - mean_y) for (xi, yi) in zip(x, y)]\n",
    "ro = sum(multiplied_difs) / (n * std_x * std_y)\n",
    "print('{:.3f}'.format(ro))"
   ]
  },
  {
   "cell_type": "markdown",
   "metadata": {},
   "source": [
    "# II. Spearman's Rank Correlation Coefficient"
   ]
  },
  {
   "cell_type": "markdown",
   "metadata": {},
   "source": [
    "### Task"
   ]
  },
  {
   "cell_type": "markdown",
   "metadata": {},
   "source": [
    "Given two n-element data sets, <b>X</b> and <b>Y</b>, calculate the value of Spearman's rank correlation coefficient."
   ]
  },
  {
   "cell_type": "markdown",
   "metadata": {},
   "source": [
    "### Input format"
   ]
  },
  {
   "cell_type": "markdown",
   "metadata": {},
   "source": [
    "The first line contains an integer, n, denoting the number of values in data sets <b>X</b> and <b>Y</b>. <br>\n",
    "The second line contains n space-separated real numbers (scaled to at most one decimal place) denoting \n",
    "data set <b>X</b>. <br>\n",
    "The third line contains space-separated real numbers (scaled to at most one decimal place) denoting data \n",
    "set <b>Y</b>."
   ]
  },
  {
   "cell_type": "markdown",
   "metadata": {},
   "source": [
    "# Constraints"
   ]
  },
  {
   "cell_type": "markdown",
   "metadata": {},
   "source": [
    "<ul>\n",
    "<li>$10 \\leq n \\leq 100$</li>\n",
    "<li>$1 \\leq x_i \\leq 500$ where $x_i$ is the $i^{th} $ value of data set <b>X</b>.</li>\n",
    "<li>$1 \\leq y_i \\leq 500$ where $y_i$ is the $i^{th} $ value of data set <b>Y</b>.</li>\n",
    "<li>Data set <b>X</b> contains unique values.</li>\n",
    "<li>Data set <b>Y</b> contains unique values.</li>\n",
    "</ul>"
   ]
  },
  {
   "cell_type": "markdown",
   "metadata": {},
   "source": [
    "### Output Format"
   ]
  },
  {
   "cell_type": "markdown",
   "metadata": {},
   "source": [
    "Print the value of the Spearman's rank correlation coefficient, rounded to a scale of 3 decimal places."
   ]
  },
  {
   "cell_type": "markdown",
   "metadata": {},
   "source": [
    "### Sample Input"
   ]
  },
  {
   "cell_type": "markdown",
   "metadata": {},
   "source": [
    "10 <br>\n",
    "10 9.8 8 7.8 7.7 1.7 6 5 1.4 2 <br>\n",
    "200 44 32 24 22 17 15 12 8 4"
   ]
  },
  {
   "cell_type": "markdown",
   "metadata": {},
   "source": [
    "### Sample Output"
   ]
  },
  {
   "cell_type": "markdown",
   "metadata": {},
   "source": [
    "0.903"
   ]
  },
  {
   "cell_type": "markdown",
   "metadata": {},
   "source": [
    "### Explanation"
   ]
  },
  {
   "cell_type": "markdown",
   "metadata": {},
   "source": [
    "We know that data sets <b>X</b> and <b>Y</b> both contain unique values, so the rank of each value in each data set is unique. Because of this property, we can use the following formula to calculate the value of Spearman's \n",
    "rank correlation coefficient:<br>\n",
    "$$r_{xy} =1-\\frac{6 \\sum d_i^2}{N(N^2-1)}$$\n",
    "Here, $d_i$ is the difference between ranks of each pair $(x_i,y_i)$. The following table shows the calculation of $d_i^2$:<br>\n",
    "<table>\n",
    "<tr><td>X</td><td>Y</td><td>$r_x$</td><td>$r_y$</td><td>$d_i=r_x-r_y$</td><td>$d_i^2$</td></tr>\n",
    "<tr><td>10</td><td>200</td><td>10</td><td>10</td><td>0</td><td>0</td></tr>\n",
    "<tr><td>9.8</td><td>44</td><td>9</td><td>9</td><td>0</td><td>0</td></tr>\n",
    "<tr><td>8</td><td>32</td><td>8</td><td>8</td><td>0</td><td>0</td></tr>\n",
    "<tr><td>7.8</td><td>24</td><td>7</td><td>7</td><td>0</td><td>0</td></tr>\n",
    "<tr><td>7.7</td><td>22</td><td>6</td><td>6</td><td>0</td><td>0</td></tr>\n",
    "<tr><td>1.7</td><td>17</td><td>2</td><td>5</td><td>-3</td><td>9</td></tr>\n",
    "<tr><td>6</td><td>15</td><td>5</td><td>4</td><td>1</td><td>1</td></tr>\n",
    "<tr><td>5</td><td>12</td><td>4</td><td>3</td><td>1</td><td>1</td></tr>\n",
    "<tr><td>1.4</td><td>8</td><td>1</td><td>2</td><td>-1</td><td>1</td></tr>\n",
    "<tr><td>2</td><td>4</td><td>3</td><td>1</td><td>2</td><td>4</td></tr>\n",
    "</table><br>\n",
    "Now, we find the value of the coefficient:<br>\n",
    "$$r_{xy} =1-\\frac{6 \\times 16}{10 \\times 99}=0.90303030303$$\n",
    "When rounded to a scale of three decimal places, we get 0.903 as our final answer."
   ]
  },
  {
   "cell_type": "markdown",
   "metadata": {},
   "source": [
    "### Code"
   ]
  },
  {
   "cell_type": "code",
   "execution_count": 4,
   "metadata": {},
   "outputs": [
    {
     "name": "stdout",
     "output_type": "stream",
     "text": [
      "10\n",
      "\"10 9.8 8 7.8 7.7 1.7 6 5 1.4 2\"\n",
      "\"200 44 32 24 22 17 15 12 8 4\"\n",
      "0.903\n"
     ]
    }
   ],
   "source": [
    "def rank_simple(vector):\n",
    "    return sorted(range(len(vector)), key=vector.__getitem__)\n",
    "\n",
    "def rankdata(a):\n",
    "    n = len(a)\n",
    "    ivec=rank_simple(a)\n",
    "    svec=[a[rank] for rank in ivec]\n",
    "    sumranks = 0\n",
    "    dupcount = 0\n",
    "    newarray = [0]*n\n",
    "    for i in range(n):\n",
    "        sumranks += i\n",
    "        dupcount += 1\n",
    "        if i==n-1 or svec[i] != svec[i+1]:\n",
    "            averank = sumranks / float(dupcount) + 1\n",
    "            for j in range(i-dupcount+1,i+1):\n",
    "                newarray[ivec[j]] = averank\n",
    "            sumranks = 0\n",
    "            dupcount = 0\n",
    "    return newarray\n",
    "\n",
    "n = int(input())\n",
    "x = [float(s) for s in input().split()]\n",
    "y = [float(s) for s in input().split()]\n",
    "\n",
    "rank_x = rankdata(x)\n",
    "rank_y = rankdata(y)\n",
    "\n",
    "difs_sq = [(rx-ry)**2 for (rx,ry) in zip(rank_x, rank_y)]\n",
    "r = 1 - 6 * sum(difs_sq)/(n*(n**2 - 1))\n",
    "\n",
    "print ('{:.3f}'.format(r))"
   ]
  },
  {
   "cell_type": "code",
   "execution_count": null,
   "metadata": {},
   "outputs": [],
   "source": []
  }
 ],
 "metadata": {
  "kernelspec": {
   "display_name": "Python 2",
   "language": "python",
   "name": "python2"
  },
  "language_info": {
   "codemirror_mode": {
    "name": "ipython",
    "version": 2
   },
   "file_extension": ".py",
   "mimetype": "text/x-python",
   "name": "python",
   "nbconvert_exporter": "python",
   "pygments_lexer": "ipython2",
   "version": "2.7.15"
  }
 },
 "nbformat": 4,
 "nbformat_minor": 2
}
