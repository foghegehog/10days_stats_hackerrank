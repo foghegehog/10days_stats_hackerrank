{
 "cells": [
  {
   "cell_type": "markdown",
   "metadata": {},
   "source": [
    "# I. The Central Limit Theorem I"
   ]
  },
  {
   "cell_type": "markdown",
   "metadata": {},
   "source": [
    "### Task"
   ]
  },
  {
   "cell_type": "markdown",
   "metadata": {},
   "source": [
    "A large elevator can transport a maximum of 9800 pounds. Suppose a load of cargo containing 49 boxes \n",
    "must be transported via the elevator. The box weight of this type of cargo follows a distribution with a \n",
    "mean of $\\mu=205$ pounds and a standard deviation of $\\sigma=15$ pounds. Based on this information, what is the probability that all 49 boxes can be safely loaded into the freight elevator and transported?"
   ]
  },
  {
   "cell_type": "markdown",
   "metadata": {},
   "source": [
    "### Input format"
   ]
  },
  {
   "cell_type": "markdown",
   "metadata": {},
   "source": [
    "There are 4 lines of input (shown below): <br>\n",
    "9800 <br>\n",
    "49 <br>\n",
    "205 <br>\n",
    "15 <br>\n",
    "The first line contains the maximum weight the elevator can transport. The second line contains the number \n",
    "of boxes in the cargo. The third line contains the mean weight of a cargo box, and the fourth line contains \n",
    "its standard deviation. <br><br>\n",
    "If you do not wish to read this information from stdin, you can hard-code it into your program."
   ]
  },
  {
   "cell_type": "markdown",
   "metadata": {},
   "source": [
    "### Output Format"
   ]
  },
  {
   "cell_type": "markdown",
   "metadata": {},
   "source": [
    "Print the probability that the elevator can successfully transport all 49 boxes, rounded to a scale of 4\n",
    "decimal places (i.e., 1.2345 format)."
   ]
  },
  {
   "cell_type": "markdown",
   "metadata": {},
   "source": [
    "### Solution"
   ]
  },
  {
   "cell_type": "markdown",
   "metadata": {},
   "source": [
    "By the Central Limit Lheorem, the sum of boxes weights will have distribution close to normal $N(\\mu',\\sigma')$ with parameters that can be calculated from original distribution:\n",
    "$$\\mu'=n \\times \\mu \\\\\n",
    "\\sigma'=\\sqrt{n} \\times \\sigma$$\n",
    "The probability that this sum will be less or equal than the limit $P(X \\leq 9800)=F_X(9800)$ can be found with the formula of cumulative distribution of $N$:\n",
    "$$\\Phi=\\frac{1}{2}\\lgroup 1 + erf \\lgroup \\frac{x-\\mu}{\\sigma \\sqrt{2}} \\rgroup \\rgroup$$"
   ]
  },
  {
   "cell_type": "markdown",
   "metadata": {},
   "source": [
    "### Code"
   ]
  },
  {
   "cell_type": "code",
   "execution_count": 3,
   "metadata": {},
   "outputs": [],
   "source": [
    "import math\n",
    "\n",
    "def cummulated_distribution(x, mju, sigma):\n",
    "    return 0.5 * (1 + math.erf((x-mju)/(sigma*2**0.5)))\n"
   ]
  },
  {
   "cell_type": "code",
   "execution_count": 2,
   "metadata": {},
   "outputs": [
    {
     "name": "stdout",
     "output_type": "stream",
     "text": [
      "9800\n",
      "49\n",
      "205\n",
      "15\n",
      "0.0098\n"
     ]
    }
   ],
   "source": [
    "max_weight = float(input())\n",
    "n_boxes = int(input())\n",
    "mean = float(input())\n",
    "std = float(input())\n",
    "\n",
    "sum_mean = n_boxes * mean\n",
    "sum_std = n_boxes ** 0.5 * std\n",
    "\n",
    "p = cummulated_distribution(max_weight, sum_mean, sum_std)\n",
    "\n",
    "print ('{:.4f}'.format(p))"
   ]
  },
  {
   "cell_type": "markdown",
   "metadata": {},
   "source": [
    "# II. The Central Limit Theorem II"
   ]
  },
  {
   "cell_type": "markdown",
   "metadata": {},
   "source": [
    "### Task"
   ]
  },
  {
   "cell_type": "markdown",
   "metadata": {},
   "source": [
    "The number of tickets purchased by each student for the University X vs. University Y football game follows \n",
    "a distribution that has a mean of $\\mu=2.4$ and a standard deviation of $\\sigma=2.0$. \n",
    "A few hours before the game starts, 100 eager students line up to purchase last-minute tickets. If there are \n",
    "only 250 tickets left, what is the probability that all 100 students will be able to purchase tickets?"
   ]
  },
  {
   "cell_type": "markdown",
   "metadata": {},
   "source": [
    "### Input format"
   ]
  },
  {
   "cell_type": "markdown",
   "metadata": {},
   "source": [
    "There are 4 lines of input (shown below): <br>\n",
    "250 <br>\n",
    "100 <br>\n",
    "2.4 <br>\n",
    "2.0 <br>\n",
    "The first line contains the number of last-minute tickets available at the box office. The second line contains \n",
    "the number of students waiting to buy tickets. The third line contains the mean number of purchased \n",
    "tickets, and the fourth line contains the standard deviation. <br><br>\n",
    "If you do not wish to read this information from stdin, you can hard-code it into your program."
   ]
  },
  {
   "cell_type": "markdown",
   "metadata": {},
   "source": [
    "### Output Format"
   ]
  },
  {
   "cell_type": "markdown",
   "metadata": {},
   "source": [
    "Print the probability that 100 students can successfully purchase the remaining 250 tickets, rounded to a \n",
    "scale of decimal 4 places (i.e., 1.234 format)."
   ]
  },
  {
   "cell_type": "markdown",
   "metadata": {},
   "source": [
    "### Solution"
   ]
  },
  {
   "cell_type": "markdown",
   "metadata": {},
   "source": [
    "This task can be solved using the same formulas as in the previous one. "
   ]
  },
  {
   "cell_type": "markdown",
   "metadata": {},
   "source": [
    "### Code"
   ]
  },
  {
   "cell_type": "code",
   "execution_count": 4,
   "metadata": {},
   "outputs": [
    {
     "name": "stdout",
     "output_type": "stream",
     "text": [
      "250\n",
      "100\n",
      "2.4\n",
      "2.0\n",
      "0.6915\n"
     ]
    }
   ],
   "source": [
    "tickets_left = int(input())\n",
    "students_count = int(input())\n",
    "mean = float(input())\n",
    "std = float(input())\n",
    "\n",
    "sum_mean = students_count * mean\n",
    "sum_std = students_count**0.5 * std\n",
    "\n",
    "p = cummulated_distribution(tickets_left, sum_mean, sum_std)\n",
    "\n",
    "print('{:.4f}'.format(p))"
   ]
  },
  {
   "cell_type": "markdown",
   "metadata": {},
   "source": [
    "# III. The Central Limit Theorem III"
   ]
  },
  {
   "cell_type": "markdown",
   "metadata": {},
   "source": [
    "### Task"
   ]
  },
  {
   "cell_type": "markdown",
   "metadata": {},
   "source": [
    "You have a sample of 100 values from a population with mean $\\mu=500$ and with standard deviation $\\sigma=80$. Compute the interval that covers the middle 95% of the distribution of the sample mean; in other \n",
    "words, compute $A$ and $B$ such that $P(A<x<B)=0.95$. Use the value of $z=1.96$. Note that z is the z-score. "
   ]
  },
  {
   "cell_type": "markdown",
   "metadata": {},
   "source": [
    "### Input format"
   ]
  },
  {
   "cell_type": "markdown",
   "metadata": {},
   "source": [
    "There are five lines of input (shown below): <br>\n",
    "100 <br>\n",
    "500 <br>\n",
    "80 <br>\n",
    ".95 <br>\n",
    "1.96 <br>\n",
    "The first line contains the sample size. The second and third lines contain the respective mean and \n",
    "standard deviation. The fourth line contains the distribution percentage we want to cover (as a \n",
    "decimal), and the fifth line contains the value of z. <br><br>\n",
    "If you do not wish to read this information from stdin, you can hard-code it into your program."
   ]
  },
  {
   "cell_type": "markdown",
   "metadata": {},
   "source": [
    "### Output Format"
   ]
  },
  {
   "cell_type": "markdown",
   "metadata": {},
   "source": [
    "Print the following two lines of output, rounded to a scale of 2 decimal places (i.e., 1.23 format): \n",
    "1. On the first line, print the value of A. \n",
    "2. On the second line, print the value of B."
   ]
  },
  {
   "cell_type": "markdown",
   "metadata": {},
   "source": [
    "### Solution"
   ]
  },
  {
   "cell_type": "markdown",
   "metadata": {},
   "source": [
    "The mean of samples in the population is calculated as $$\\mu_p=\\frac{1}{n}\\sum_{i=1}^{n}X_i$$\n",
    "By the properties of $E[X]$ and $Var(X)$:\n",
    "$$E[\\mu_p] =E[\\frac{1}{n} S_n] =\\frac{1}{n}E[S_n]=\\frac{1}{n} \\times n \\times \\mu=\\mu \\\\\n",
    "Var(\\mu_p) = (\\frac{1}{n})^2 \\times Var(S_n) =\\frac{1}{n^2}\\times(\\sqrt{n}\\sigma) ^2=\\frac{n}{n^2}\\times \\sigma^2=\\frac{\\sigma^2}{n}\\\\ => \\\\\n",
    "\\mu_{\\mu_p} = \\mu \\\\\n",
    "\\sigma_{\\mu_p} = \\frac{\\sigma}{\\sqrt n }$$\n",
    "<br><br>\n",
    "The z-score=1.96 allows to calculate the 95%-coverage interval by the formulas:\n",
    "$$A=\\mu_{\\mu_p} - zscore \\times \\sigma_{\\mu_p} \\\\\n",
    "B=\\mu_{\\mu_p} + zscore \\times \\sigma_{\\mu_p}$$"
   ]
  },
  {
   "cell_type": "markdown",
   "metadata": {},
   "source": [
    "### Code"
   ]
  },
  {
   "cell_type": "code",
   "execution_count": 5,
   "metadata": {},
   "outputs": [
    {
     "name": "stdout",
     "output_type": "stream",
     "text": [
      "100\n",
      "500\n",
      "80\n",
      ".95\n",
      "1.96\n",
      "484.32\n",
      "515.68\n"
     ]
    }
   ],
   "source": [
    "n_samples = int(input())\n",
    "mean = float(input())\n",
    "std = float(input())\n",
    "percentage = float(input())\n",
    "z_score = float(input())\n",
    "\n",
    "mean_of_sample_mean = mean\n",
    "std_of_sample_mean = std / (n_samples ** 0.5)\n",
    "\n",
    "a = (mean_of_sample_mean - z_score * std_of_sample_mean)\n",
    "b = (mean_of_sample_mean + z_score * std_of_sample_mean)\n",
    "\n",
    "print('{:.2f}'.format(a))\n",
    "print('{:.2f}'.format(b))\n"
   ]
  },
  {
   "cell_type": "code",
   "execution_count": null,
   "metadata": {},
   "outputs": [],
   "source": []
  }
 ],
 "metadata": {
  "kernelspec": {
   "display_name": "Python 2",
   "language": "python",
   "name": "python2"
  },
  "language_info": {
   "codemirror_mode": {
    "name": "ipython",
    "version": 2
   },
   "file_extension": ".py",
   "mimetype": "text/x-python",
   "name": "python",
   "nbconvert_exporter": "python",
   "pygments_lexer": "ipython2",
   "version": "2.7.15"
  }
 },
 "nbformat": 4,
 "nbformat_minor": 2
}
